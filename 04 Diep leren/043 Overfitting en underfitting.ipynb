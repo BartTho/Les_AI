{
 "cells": [
  {
   "cell_type": "code",
   "execution_count": null,
   "id": "c3b0b6eb",
   "metadata": {},
   "outputs": [],
   "source": [
    "import pandas as pd\n",
    "from IPython.display import display\n",
    "\n",
    "data_bestand = \"../data/red-wine.csv\"\n",
    "data_rode_wijn = pd.read_csv(data_bestand)\n",
    "\n",
    "# Maak een training en test split\n",
    "df_train = data_rode_wijn.sample(frac=0.7, random_state=0)\n",
    "df_test = data_rode_wijn.drop(df_train.index)\n",
    "display(df_train.head(4))\n",
    "\n",
    "# schaal naar [0, 1]\n",
    "max_ = df_train.max(axis=0)\n",
    "min_ = df_train.min(axis=0)\n",
    "df_train = (df_train - min_) / (max_ - min_)\n",
    "df_test = (df_test - min_) / (max_ - min_)\n",
    "\n",
    "# Split tussen kenmerken en doel\n",
    "X_train = df_train.drop('quality', axis=1)\n",
    "X_test = df_test.drop('quality', axis=1)\n",
    "y_train = df_train['quality']\n",
    "y_test = df_test['quality']"
   ]
  },
  {
   "cell_type": "code",
   "execution_count": null,
   "id": "500d6598",
   "metadata": {},
   "outputs": [],
   "source": [
    "from tensorflow import keras\n",
    "from tensorflow.keras import layers, callbacks\n",
    "\n",
    "early_stopping = callbacks.EarlyStopping(\n",
    "    min_delta=0.001, # minimale hoeveelheid die we een verbetering noemen\n",
    "    patience=20, # hoeveel epochs voor we stoppen\n",
    "    restore_best_weights=True,\n",
    ")\n",
    "\n",
    "# Model\n",
    "# We gebruiken een sequentieel model\n",
    "# met 3 verborgen lagen van 512 neuronen\n",
    "# en een output laag van 1 neuron\n",
    "# We gebruiken de ReLU activatiefunctie\n",
    "# en de Adam optimizer\n",
    "# We gebruiken MAE als verliesfunctie"
   ]
  },
  {
   "cell_type": "code",
   "execution_count": null,
   "id": "0d8c5f41",
   "metadata": {},
   "outputs": [],
   "source": [
    "# Train het model\n",
    "# batch_size = 256\n",
    "# epochs = 500\n",
    "# verbose = 0\n",
    "\n",
    "history = model.fit(\n",
    "    -----VUL HIER DE CODE IN\n",
    "    callbacks=[early_stopping], # plaats de callbacks in een list\n",
    "    -----VUL HIER DE CODE IN\n",
    ")\n",
    "\n",
    "history_df = pd.DataFrame(history.history)\n",
    "history_df.loc[:, ['loss', 'val_loss']].plot()\n",
    "print(\"Minimale controle verlies: {}\".format(history_df['val_loss'].min()))"
   ]
  }
 ],
 "metadata": {
  "kernelspec": {
   "display_name": ".venv",
   "language": "python",
   "name": "python3"
  },
  "language_info": {
   "codemirror_mode": {
    "name": "ipython",
    "version": 3
   },
   "file_extension": ".py",
   "mimetype": "text/x-python",
   "name": "python",
   "nbconvert_exporter": "python",
   "pygments_lexer": "ipython3",
   "version": "3.11.9"
  }
 },
 "nbformat": 4,
 "nbformat_minor": 5
}
