{
 "cells": [
  {
   "cell_type": "code",
   "execution_count": null,
   "id": "00344f1a",
   "metadata": {},
   "outputs": [],
   "source": [
    "import pandas as pd\n",
    "from IPython.display import display\n",
    "\n",
    "data_bestand = \"../data/ion.csv\"\n",
    "data_ion = pd.read_csv(data_bestand)\n",
    "\n",
    "df = data_ion.copy()\n",
    "df['Class'] = df['Class'].map({'good': 0, 'bad': 1})\n",
    "\n",
    "df_train = df.sample(frac=0.7, random_state=0)\n",
    "df_valid = df.drop(df_train.index)\n",
    "\n",
    "max_ = df_train.max(axis=0)\n",
    "min_ = df_train.min(axis=0)\n",
    "\n",
    "df_train = (df_train - min_) / (max_ - min_)\n",
    "df_test = (df_valid - min_) / (max_ - min_)\n",
    "df_train.dropna(axis=1, inplace=True) # Wis alle lege eigenschappen in de 2 kolommen\n",
    "df_test.dropna(axis=1, inplace=True)\n",
    "\n",
    "X_train = df_train.drop('Class', axis=1)\n",
    "X_test = df_test.drop('Class', axis=1)\n",
    "y_train = df_train['Class']\n",
    "y_test = df_test['Class']\n",
    "\n",
    "# Toon de shapes van de datasets X en y\n"
   ]
  },
  {
   "cell_type": "code",
   "execution_count": null,
   "id": "5b352458",
   "metadata": {},
   "outputs": [],
   "source": [
    "from tensorflow import keras\n",
    "from tensorflow.keras import layers\n",
    "\n",
    "# Model\n",
    "# Hidden layers\n",
    "# 33 inputs\n",
    "# 2 hidden layers with 4 neurons each and relu activation function\n",
    "# Output layer\n",
    "# 1 output neuron with sigmoid activation function"
   ]
  },
  {
   "cell_type": "code",
   "execution_count": null,
   "id": "f65afc2a",
   "metadata": {},
   "outputs": [],
   "source": [
    "model.compile(\n",
    "    optimizer='adam',\n",
    "    loss='binary_crossentropy',\n",
    "    metrics=['binary_accuracy'],\n",
    ")"
   ]
  },
  {
   "cell_type": "code",
   "execution_count": null,
   "id": "819e6555",
   "metadata": {},
   "outputs": [],
   "source": [
    "early_stopping = keras.callbacks.EarlyStopping(\n",
    "    patience=10,\n",
    "    min_delta=0.001,\n",
    "    restore_best_weights=True,\n",
    ")\n",
    "\n",
    "# Train the model\n",
    "# batch_size = 512\n",
    "# epochs = 1000\n",
    "# verbose = 0\n",
    "# We gebruiken een EarlyStopping callback om te voorkomen dat we te veel epochs trainen\n",
    "\n"
   ]
  },
  {
   "cell_type": "code",
   "execution_count": null,
   "id": "b5fbe9af",
   "metadata": {},
   "outputs": [],
   "source": [
    "df_geschiedenis = pd.DataFrame(geschiedenis.history)\n",
    "# Start the plot at epoch 5\n",
    "df_geschiedenis.loc[5:, ['loss', 'val_loss']].plot()\n",
    "df_geschiedenis.loc[5:, ['binary_accuracy', 'val_binary_accuracy']].plot()\n",
    "\n",
    "print((\"Beste validatieverlies: {:0.4f}\" +\\\n",
    "      \"\\nBeste controle accuraatheiD: {:0.4f}\")\\\n",
    "      .format(df_geschiedenis['val_loss'].min(), \n",
    "              df_geschiedenis['val_binary_accuracy'].max()))"
   ]
  }
 ],
 "metadata": {
  "kernelspec": {
   "display_name": ".venv",
   "language": "python",
   "name": "python3"
  },
  "language_info": {
   "codemirror_mode": {
    "name": "ipython",
    "version": 3
   },
   "file_extension": ".py",
   "mimetype": "text/x-python",
   "name": "python",
   "nbconvert_exporter": "python",
   "pygments_lexer": "ipython3",
   "version": "3.11.9"
  }
 },
 "nbformat": 4,
 "nbformat_minor": 5
}
