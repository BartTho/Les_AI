{
 "cells": [
  {
   "cell_type": "markdown",
   "id": "fd427546",
   "metadata": {},
   "source": [
    "##Samenvatting"
   ]
  },
  {
   "cell_type": "code",
   "execution_count": null,
   "id": "384c6d10",
   "metadata": {},
   "outputs": [
    {
     "name": "stdout",
     "output_type": "stream",
     "text": [
      "Eerste in-sample voorspelling: [208500. 181500. 223500. 140000. 250000.]\n",
      "Werkelijke waarde van het huis: [208500, 181500, 223500, 140000, 250000]\n"
     ]
    }
   ],
   "source": [
    "import pandas as pd\n",
    "from sklearn.tree import DecisionTreeRegressor\n",
    "\n",
    "bestand = '../data/train.csv'\n",
    "huis_data = pd.read_csv(bestand) \n",
    "huis_data.columns\n",
    "# Code die u eerder hebt gebruikt om gegevens te laden\n",
    "y = huis_data.SalePrice\n",
    "feature_columns = ['LotArea', 'YearBuilt', '1stFlrSF', '2ndFlrSF', 'FullBath', 'BedroomAbvGr', 'TotRmsAbvGrd']\n",
    "X = huis_data[feature_columns]\n",
    "\n",
    "# Model opgeven\n",
    "huis_model = DecisionTreeRegressor()\n",
    "# Model aanpassen\n",
    "huis_model.fit(X, y)\n",
    "\n",
    "print(\"Eerste in-sample voorspelling:\", huis_model.predict(X.head()))\n",
    "print(\"Werkelijke waarde van het huis:\", y.head().tolist())"
   ]
  },
  {
   "cell_type": "markdown",
   "id": "f6d33a19",
   "metadata": {},
   "source": [
    "##Stap 1: Splits uw gegevens"
   ]
  },
  {
   "cell_type": "code",
   "execution_count": null,
   "id": "df09fb79",
   "metadata": {},
   "outputs": [],
   "source": [
    "#Importeer de train_test_split-functie\n",
    "\n",
    "from xxxxxx import xxxxxx\n",
    "train_X, val_X, train_y, val_y = xxxxxx"
   ]
  },
  {
   "cell_type": "code",
   "execution_count": null,
   "id": "eee57dc7",
   "metadata": {},
   "outputs": [],
   "source": [
    "mijn_model = xxxxxx\n",
    "mijn_model.xxxxxx"
   ]
  },
  {
   "cell_type": "markdown",
   "id": "8fa068bc",
   "metadata": {},
   "source": [
    "##Stap 3: Voorspellingen doen met validatiegegevens"
   ]
  },
  {
   "cell_type": "code",
   "execution_count": null,
   "id": "0b83ed9c",
   "metadata": {},
   "outputs": [],
   "source": [
    "val_predictions = xxxxxx\n",
    "print(val_predictions)\n",
    "print(val_y)"
   ]
  },
  {
   "cell_type": "markdown",
   "id": "ccec43d0",
   "metadata": {},
   "source": [
    "## Stap 4: Bereken de gemiddelde absolute fout in validatiegegevens"
   ]
  },
  {
   "cell_type": "code",
   "execution_count": null,
   "id": "a3a57c46",
   "metadata": {},
   "outputs": [],
   "source": [
    "from sklearn.metrics import mean_absolute_error\n",
    "val_mae = xxxxxx\n",
    "print(val_mae)"
   ]
  }
 ],
 "metadata": {
  "kernelspec": {
   "display_name": ".venv",
   "language": "python",
   "name": "python3"
  },
  "language_info": {
   "codemirror_mode": {
    "name": "ipython",
    "version": 3
   },
   "file_extension": ".py",
   "mimetype": "text/x-python",
   "name": "python",
   "nbconvert_exporter": "python",
   "pygments_lexer": "ipython3",
   "version": "3.11.9"
  }
 },
 "nbformat": 4,
 "nbformat_minor": 5
}
