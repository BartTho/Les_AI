{
 "cells": [
  {
   "cell_type": "markdown",
   "id": "d5a6a0c6",
   "metadata": {},
   "source": [
    "## Samenvatting"
   ]
  },
  {
   "cell_type": "code",
   "execution_count": null,
   "id": "a42db15b",
   "metadata": {},
   "outputs": [],
   "source": [
    "# Code die je eerder hebt gebruikt om gegevens te laden\n",
    "import pandas as pd\n",
    "from sklearn.metrics import mean_absolute_error\n",
    "from sklearn.model_selection import train_test_split\n",
    "from sklearn.tree import DecisionTreeRegressor\n",
    "\n",
    "# Pad van het bestand dat moet worden gelezen\n",
    "bestand = '../data/train.csv'\n",
    "huis_data = pd.read_csv(bestand) \n",
    "\n",
    "# Maak het doelobject en noem het y\n",
    "y = huis_data.SalePrice\n",
    "\n",
    "# Maak X\n",
    "features = ['LotArea', 'YearBuilt', '1stFlrSF', '2ndFlrSF', 'FullBath', 'BedroomAbvGr', 'TotRmsAbvGrd']\n",
    "X = huis_data[features]\n",
    "\n",
    "# Splits in validatie en trainingsgegevens\n",
    "train_X, val_X, train_y, val_y = train_test_split(X, y, random_state=1)\n",
    "\n",
    "# Model opgeven\n",
    "iowa_model = DecisionTreeRegressor(random_state=1)\n",
    "# Model aanpassen\n",
    "iowa_model.fit(train_X, train_y)\n",
    "\n",
    "# Validatievoorspellingen maken en gemiddelde absolute fout berekenen\n",
    "Validatievoorspellingen = iowa_model.predict(val_X)\n",
    "Validatie_mae = mean_absolute_error(Validatievoorspellingen, val_y)\n",
    "print(\"Validatie MAE: {:,.0f}\".format(Validatie_mae))"
   ]
  },
  {
   "cell_type": "code",
   "execution_count": null,
   "id": "784beb8d",
   "metadata": {},
   "outputs": [],
   "source": [
    "def get_mae(max_leaf_nodes, train_X, val_X, train_y, val_y):\n",
    "   model = DecisionTreeRegressor(max_leaf_nodes=max_leaf_nodes, random_state=0)\n",
    "   model.fit(train_X, train_y)\n",
    "   preds_val = model.predict(val_X)\n",
    "   mae = mean_absolute_error(val_y, preds_val)\n",
    "   return(mae)"
   ]
  },
  {
   "cell_type": "markdown",
   "id": "1de9b058",
   "metadata": {},
   "source": [
    "### Stap 1: Vergelijk verschillende boomgroottes"
   ]
  },
  {
   "cell_type": "code",
   "execution_count": null,
   "id": "14f504e9",
   "metadata": {},
   "outputs": [],
   "source": [
    "candidate_max_leaf_nodes = [5, 25, 50, 100, 250, 500]\n",
    "\n",
    "# Schrijf een lus om de ideale boomgrootte te vinden van candidate_max_leaf_nodes\n",
    "for xxxxxx\n",
    "    mijn_mae = xxxxxx\n",
    "    print(\"Max. bladknooppunten: %d \\t\\t Gemiddelde absolute fout: %d\" %(max_leaf_nodes, mijn_mae))\n",
    "\n",
    "# Sla de beste waarde van max_leaf_nodes op (het zal 5, 25, 50, 100, 250 of 500 zijn)\n",
    "best_tree_size = xxxxxx"
   ]
  },
  {
   "cell_type": "code",
   "execution_count": null,
   "id": "f55c946a",
   "metadata": {},
   "outputs": [],
   "source": [
    "final_model = DecisionTreeRegressor(max_leaf_nodes= xxxxxx , random_state=0)\n",
    "final_model.fit(X, y)"
   ]
  }
 ],
 "metadata": {
  "kernelspec": {
   "display_name": ".venv",
   "language": "python",
   "name": "python3"
  },
  "language_info": {
   "codemirror_mode": {
    "name": "ipython",
    "version": 3
   },
   "file_extension": ".py",
   "mimetype": "text/x-python",
   "name": "python",
   "nbconvert_exporter": "python",
   "pygments_lexer": "ipython3",
   "version": "3.11.9"
  }
 },
 "nbformat": 4,
 "nbformat_minor": 5
}
