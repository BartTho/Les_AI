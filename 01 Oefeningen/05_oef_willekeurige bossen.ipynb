{
 "cells": [
  {
   "cell_type": "markdown",
   "id": "b496fc9c",
   "metadata": {},
   "source": [
    "#Willekeurige bossen"
   ]
  },
  {
   "cell_type": "code",
   "execution_count": null,
   "id": "43bbe24e",
   "metadata": {},
   "outputs": [
    {
     "name": "stdout",
     "output_type": "stream",
     "text": [
      "Validatie MAE wanneer max_leaf_nodes niet worden opgegeven: 29,653\n",
      "Validatie MAE voor beste waarde van max_leaf_nodes: 27,283\n"
     ]
    }
   ],
   "source": [
    "# Code die je eerder hebt gebruikt om gegevens te laden\n",
    "import pandas as pd\n",
    "from sklearn.metrics import mean_absolute_error\n",
    "from sklearn.model_selection import train_test_split\n",
    "from sklearn.tree import DecisionTreeRegressor\n",
    "\n",
    "# Pad van het bestand dat moet worden gelezen\n",
    "bestand = '../data/train.csv'\n",
    "huis_data = pd.read_csv(bestand) \n",
    "\n",
    "# Maak het doelobject en noem het y\n",
    "y = huis_data.SalePrice\n",
    "\n",
    "# Maak X\n",
    "features = ['LotArea', 'YearBuilt', '1stFlrSF', '2ndFlrSF', 'FullBath', 'BedroomAbvGr', 'TotRmsAbvGrd']\n",
    "X = huis_data[features]\n",
    "\n",
    "# Splits in validatie en trainingsgegevens\n",
    "X_train, X_test, y_train, y_test = train_test_split(X, y, random_state=1)\n",
    "\n",
    "# Model opgeven\n",
    "huis_model = DecisionTreeRegressor(random_state=1)\n",
    "# Model aanpassen\n",
    "huis_model.fit(X_train, y_train)\n",
    "\n",
    "# Validatievoorspellingen maken en gemiddelde absolute fout berekenen\n",
    "Validatievoorspellingen = huis_model.predict(X_test)\n",
    "Validatie_mae = mean_absolute_error(Validatievoorspellingen, y_test)\n",
    "print(\"Validatie MAE wanneer max_leaf_nodes niet worden opgegeven: {:,.0f}\".format(Validatie_mae))\n",
    "\n",
    "# Beste waarde voor max_leaf_nodes gebruiken\n",
    "huis_model = DecisionTreeRegressor(max_leaf_nodes=100, random_state=1)\n",
    "huis_model.fit(X_train, y_train)\n",
    "Validatievoorspellingen = huis_model.predict(X_test)\n",
    "Validatie_mae = mean_absolute_error(Validatievoorspellingen, y_test)\n",
    "print(\"Validatie MAE voor beste waarde van max_leaf_nodes: {:,.0f}\".format(Validatie_mae))"
   ]
  },
  {
   "cell_type": "markdown",
   "id": "33bc8246",
   "metadata": {},
   "source": [
    "##Stap 1: Gebruik een Random Forest "
   ]
  },
  {
   "cell_type": "code",
   "execution_count": null,
   "id": "6595d1f3",
   "metadata": {},
   "outputs": [],
   "source": [
    "from sklearn.ensemble import RandomForestRegressor\n",
    "from sklearn.metrics import mean_absolute_error\n",
    "\n",
    "# Definieer het model. Stel random_state in op 1\n",
    "forest_model = xxxxxx\n",
    "\n",
    "# Pas uw model aan\n",
    "forest_model.xxxxxx\n",
    "\n",
    "# Bereken de gemiddelde absolute fout van uw Random Forest-model op de validatiegegevens\n",
    "voorspelling =  xxxxxx\n",
    "rf_val_mae =  xxxxxx\n",
    "\n",
    "print(\"Validatie MAE voor Random Forest-model: {}\".format(rf_val_mae))"
   ]
  }
 ],
 "metadata": {
  "kernelspec": {
   "display_name": ".venv",
   "language": "python",
   "name": "python3"
  },
  "language_info": {
   "codemirror_mode": {
    "name": "ipython",
    "version": 3
   },
   "file_extension": ".py",
   "mimetype": "text/x-python",
   "name": "python",
   "nbconvert_exporter": "python",
   "pygments_lexer": "ipython3",
   "version": "3.11.9"
  }
 },
 "nbformat": 4,
 "nbformat_minor": 5
}
