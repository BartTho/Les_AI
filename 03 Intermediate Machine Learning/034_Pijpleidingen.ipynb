{
 "cells": [
  {
   "cell_type": "markdown",
   "id": "d968c561",
   "metadata": {},
   "source": [
    "# Pijpleidingen"
   ]
  },
  {
   "cell_type": "code",
   "execution_count": null,
   "id": "e809a4d1",
   "metadata": {},
   "outputs": [],
   "source": [
    "import pandas as pd\n",
    "from sklearn.model_selection import train_test_split\n",
    "\n",
    "# Lees de gegevens\n",
    "data_bastand = \"../data/data.csv\"\n",
    "data = pd.read_csv(data_bastand)\n",
    "\n",
    "# Scheid doel van voorspellers\n",
    "y = data.Price\n",
    "X = data.drop(['Price'], axis=1)\n",
    "\n",
    "# Verdeel gegevens in trainings- en validatiesubsets\n",
    "X_train_full, X_test_full, y_train, y_test = train_test_split(X, y, train_size=0.8, test_size=0.2, random_state=0)\n",
    "\n",
    "# Numerieke kolommen selecteren\n",
    "numerieke_kolommen = [cname for cname in X_train_full.columns if X_train_full[cname].dtype in ['int64', 'float64']]\n",
    "\n",
    "# \"Kardinaliteit\" betekent het aantal unieke waarden in een kolom\n",
    "# Selecteer categorische kolommen met relatief lage kardinaliteit (handig maar willekeurig)\n",
    "categorisch_kolommen = [cname for cname in X_train_full.columns if X_train_full[cname].nunique() < 10 and X_train_full[cname].dtype == \"object\"]\n",
    "\n",
    "# Alleen geselecteerde kolommen behouden\n",
    "mijn_kolommen = categorisch_kolommen + numerieke_kolommen\n",
    "X_train = X_train_full[mijn_kolommen].copy()\n",
    "X_test = X_test_full[mijn_kolommen].copy()"
   ]
  },
  {
   "cell_type": "code",
   "execution_count": null,
   "id": "ffa37aef",
   "metadata": {},
   "outputs": [],
   "source": [
    "X_train.head()"
   ]
  },
  {
   "cell_type": "markdown",
   "id": "09fcb8c2",
   "metadata": {},
   "source": [
    "## Stap 1: Definieer preprocessingstappen"
   ]
  },
  {
   "cell_type": "code",
   "execution_count": null,
   "id": "015865c2",
   "metadata": {},
   "outputs": [],
   "source": [
    "from sklearn.compose import ColumnTransformer\n",
    "from sklearn.pipeline import Pipeline\n",
    "from sklearn.impute import SimpleImputer\n",
    "from sklearn.preprocessing import OneHotEncoder\n",
    "\n",
    "# Preprocessing voor numerieke gegevens\n",
    "numeriche_transformator = SimpleImputer(strategy='constant')\n",
    "\n",
    "# Preprocessing voor categorische gegevens\n",
    "categorisch_transformator = Pipeline(steps=[\n",
    "    ('imputer', SimpleImputer(strategy='most_frequent')),\n",
    "    ('onehot', OneHotEncoder(handle_unknown='ignore'))\n",
    "    ])\n",
    "\n",
    "# Bundle preprocessing voor numerieke en categorische gegevens\n",
    "preprocessor = ColumnTransformer(\n",
    "transformers=[\n",
    "    ('num', numeriche_transformator, numerieke_kolommen),\n",
    "    ('cat', categorisch_transformator, categorisch_kolommen)\n",
    "    ])"
   ]
  },
  {
   "cell_type": "markdown",
   "id": "43db6c96",
   "metadata": {},
   "source": [
    "## Stap 2: Definieer het model"
   ]
  },
  {
   "cell_type": "code",
   "execution_count": null,
   "id": "d021972d",
   "metadata": {},
   "outputs": [],
   "source": [
    "from sklearn.ensemble import RandomForestRegressor\n",
    "\n",
    "model = RandomForestRegressor(n_estimators=100, random_state=0)"
   ]
  },
  {
   "cell_type": "markdown",
   "id": "f335bea6",
   "metadata": {},
   "source": [
    "## Stap 3: De pijplijn maken en evalueren"
   ]
  },
  {
   "cell_type": "code",
   "execution_count": null,
   "id": "d5009284",
   "metadata": {},
   "outputs": [],
   "source": [
    "from sklearn.metrics import mean_absolute_error\n",
    "\n",
    "# Bundel preprocessing en modellering van code in een pijplijn\n",
    "mijn_pijpleiding = Pipeline(steps=[('preprocessor', preprocessor),('model', model)])\n",
    "\n",
    "# Preprocessing van trainingsgegevens, fit model\n",
    "mijn_pijpleiding.fit(X_train, y_train)\n",
    "\n",
    "# Preprocessing van validatiegegevens, voorspellingen ophalen\n",
    "preds = mijn_pijpleiding.predict(X_test)\n",
    "\n",
    "# Evalueer het model\n",
    "score = mean_absolute_error(y_test, preds)\n",
    "print('MAE:', score)"
   ]
  },
  {
   "cell_type": "code",
   "execution_count": null,
   "id": "e34e9b27",
   "metadata": {},
   "outputs": [],
   "source": [
    "# Preprocessing van testgegevens, fit model\n",
    "preds_test= mijn_pijpleiding.predict(X_test)\n",
    "preds_test"
   ]
  },
  {
   "cell_type": "code",
   "execution_count": null,
   "id": "675ee39d",
   "metadata": {},
   "outputs": [],
   "source": [
    "# Testvoorspellingen opslaan in bestand\n",
    "output = pd.DataFrame({'Id': X_test.index,'SalePrice': preds_test})\n",
    "output.to_csv('uitkomst.csv', index=False)"
   ]
  }
 ],
 "metadata": {
  "kernelspec": {
   "display_name": ".venv",
   "language": "python",
   "name": "python3"
  },
  "language_info": {
   "codemirror_mode": {
    "name": "ipython",
    "version": 3
   },
   "file_extension": ".py",
   "mimetype": "text/x-python",
   "name": "python",
   "nbconvert_exporter": "python",
   "pygments_lexer": "ipython3",
   "version": "3.11.9"
  }
 },
 "nbformat": 4,
 "nbformat_minor": 5
}
