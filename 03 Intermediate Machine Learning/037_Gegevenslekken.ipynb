{
 "cells": [
  {
   "cell_type": "code",
   "execution_count": null,
   "id": "df2ac219",
   "metadata": {},
   "outputs": [],
   "source": [
    "import pandas as pd\n",
    "\n",
    "# Lees de data\n",
    "data_bestand = \"../data/credit_card.csv\"\n",
    "data = pd.read_csv(data_bestand, true_values=['yes'], false_values=['no'])\n",
    "\n",
    "# Selecteer doel\n",
    "y = data.card\n",
    "\n",
    "# Selecteer voorspellers\n",
    "X = data.drop(['card'], axis=1)\n",
    "\n",
    "print(\"Aantal rijen in de dataset:\", X.shape[0])\n",
    "X.head()"
   ]
  },
  {
   "cell_type": "code",
   "execution_count": null,
   "id": "b86cf845",
   "metadata": {},
   "outputs": [],
   "source": [
    "from sklearn.pipeline import make_pipeline\n",
    "from sklearn.ensemble import RandomForestClassifier\n",
    "from sklearn.model_selection import cross_val_score\n",
    "\n",
    "# Omdat er geen preprocessing is, hebben we geen pipeline nodig (wordt toch gebruikt als best practice!)\n",
    "mijn_pijpleiding = make_pipeline(RandomForestClassifier(n_estimators=100))\n",
    "cv_scores = cross_val_score(mijn_pijpleiding, X, y,cv=5,scoring='accuracy')\n",
    "\n",
    "print(\"Cross-validatie nauwkeurigheid: %f\" % cv_scores.mean())"
   ]
  },
  {
   "cell_type": "code",
   "execution_count": null,
   "id": "01b2161c",
   "metadata": {},
   "outputs": [],
   "source": [
    "expenses_cardholders = X.expenditure[y]\n",
    "expenditures_noncardholders = X.expenditure[~y]\n",
    "\n",
    "print('Fractie van degenen die geen kaart ontvingen en geen uitgaven hadden: %.2f' \\\n",
    "%((expenditures_noncardholders == 0).mean()))\n",
    "print('Fractie van degenen die een kaart ontvingen en geen uitgaven hadden: %.2f' \\\n",
    "%(( expenses_cardholders == 0).mean()))"
   ]
  },
  {
   "cell_type": "code",
   "execution_count": null,
   "id": "d95c36f6",
   "metadata": {},
   "outputs": [],
   "source": [
    "# lekkende voorspellers uit dataset verwijderen\n",
    "potential_leaks = ['expenditure', 'share', 'active', 'majorcards']\n",
    "X2 = X.drop(potential_leaks, axis=1)\n",
    "\n",
    "# Model evalueren met lekkende voorspellers verwijderd\n",
    "cv_scores = cross_val_score(mijn_pijpleiding, X2, y, cv=5, scoring='accuracy')\n",
    "\n",
    "print(\"Cross-val accuraatheid: %f\" % cv_scores.mean())"
   ]
  }
 ],
 "metadata": {
  "kernelspec": {
   "display_name": ".venv",
   "language": "python",
   "name": "python3"
  },
  "language_info": {
   "codemirror_mode": {
    "name": "ipython",
    "version": 3
   },
   "file_extension": ".py",
   "mimetype": "text/x-python",
   "name": "python",
   "nbconvert_exporter": "python",
   "pygments_lexer": "ipython3",
   "version": "3.11.9"
  }
 },
 "nbformat": 4,
 "nbformat_minor": 5
}
