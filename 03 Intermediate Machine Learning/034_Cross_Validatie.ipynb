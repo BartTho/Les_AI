{
 "cells": [
  {
   "cell_type": "markdown",
   "id": "b3661e53",
   "metadata": {},
   "source": [
    "# Cross-validatie"
   ]
  },
  {
   "cell_type": "code",
   "execution_count": 1,
   "id": "ffb4ff98",
   "metadata": {},
   "outputs": [],
   "source": [
    "import pandas as pd\n",
    "\n",
    "# Lees de data\n",
    "data = pd.read_csv('../data/melb_data.csv')\n",
    "\n",
    "# Selecteer subset van predictors\n",
    "cols_to_use = ['Rooms', 'Distance', 'Landsize', 'BuildingArea', 'YearBuilt']\n",
    "X = data[cols_to_use]\n",
    "\n",
    "# Selecteer doel\n",
    "y = data.Price"
   ]
  },
  {
   "cell_type": "code",
   "execution_count": 3,
   "id": "a9893710",
   "metadata": {},
   "outputs": [],
   "source": [
    "from sklearn.ensemble import RandomForestRegressor\n",
    "from sklearn.pipeline import Pipeline\n",
    "from sklearn.impute import SimpleImputer\n",
    "\n",
    "my_pipeline = Pipeline(steps=[('preprocessor', SimpleImputer()),\n",
    "('model', RandomForestRegressor(n_estimators=50,\n",
    "random_state=0))\n",
    "])"
   ]
  },
  {
   "cell_type": "code",
   "execution_count": 6,
   "id": "5ab856ba",
   "metadata": {},
   "outputs": [
    {
     "name": "stdout",
     "output_type": "stream",
     "text": [
      "MAE scores:\n",
      " [301615.03450966 303143.49091344 287316.47967778 236087.57655869\n",
      " 260385.2736474 ]\n"
     ]
    }
   ],
   "source": [
    "from sklearn.model_selection import cross_val_score\n",
    "\n",
    "# Vermenigvuldig met -1 omdat sklearn *negatieve* MAE berekent\n",
    "scores = -1 * cross_val_score(my_pipeline, X, y, cv=5, scoring='neg_mean_absolute_error')\n",
    "\n",
    "print(\"MAE scores:\\n\", scores)  "
   ]
  },
  {
   "cell_type": "code",
   "execution_count": 7,
   "id": "62ba80c0",
   "metadata": {},
   "outputs": [
    {
     "name": "stdout",
     "output_type": "stream",
     "text": [
      "Gemiddelde MAE-score (over experimenten heen):\n",
      "277709.5710613945\n"
     ]
    }
   ],
   "source": [
    "print(\"Gemiddelde MAE-score (over experimenten heen):\")\n",
    "print(scores.mean())"
   ]
  }
 ],
 "metadata": {
  "kernelspec": {
   "display_name": ".venv",
   "language": "python",
   "name": "python3"
  },
  "language_info": {
   "codemirror_mode": {
    "name": "ipython",
    "version": 3
   },
   "file_extension": ".py",
   "mimetype": "text/x-python",
   "name": "python",
   "nbconvert_exporter": "python",
   "pygments_lexer": "ipython3",
   "version": "3.11.11"
  }
 },
 "nbformat": 4,
 "nbformat_minor": 5
}
