{
 "cells": [
  {
   "cell_type": "markdown",
   "id": "7131cbb3",
   "metadata": {},
   "source": [
    "# Ontbrekende Waardes"
   ]
  },
  {
   "cell_type": "code",
   "execution_count": null,
   "id": "6eab1aba",
   "metadata": {},
   "outputs": [],
   "source": [
    "import pandas as pd\n",
    "from sklearn.model_selection import train_test_split\n",
    "\n",
    "# Laad de data\n",
    "data_bestand = '../data/data.csv'\n",
    "data = pd.read_csv(data_bestand) \n",
    "\n",
    "# Huizen zonder prijs mogen er al uit.\n",
    "data = data[data['Price'].notna()]\n",
    "\n",
    "# Selecteer doel\n",
    "y = data.Price\n",
    "\n",
    "# Om het simpel te houden, gebruiken we alleen numerieke voorspellers\n",
    "data_predictors = data.drop(['Price'], axis=1)\n",
    "X = data_predictors.select_dtypes(exclude=['object'])\n",
    "\n",
    "# Verdeel data in trainings- en validatiesubsets\n",
    "X_train, X_test, y_train, y_test = train_test_split(X, y, train_size=0.8, test_size=0.2, random_state=0)"
   ]
  },
  {
   "cell_type": "code",
   "execution_count": null,
   "id": "93cafbac",
   "metadata": {},
   "outputs": [],
   "source": [
    "from sklearn.ensemble import RandomForestRegressor\n",
    "from sklearn.metrics import mean_absolute_error"
   ]
  },
  {
   "cell_type": "code",
   "execution_count": null,
   "id": "a5069157",
   "metadata": {},
   "outputs": [],
   "source": [
    "# Functie voor het vergelijken van verschillende benaderingen\n",
    "def score_dataset(X_train, X_test, y_train, y_test):\n",
    "    model = RandomForestRegressor(n_estimators=10, random_state=0)\n",
    "    model.fit(X_train, y_train)\n",
    "    voorspel = model.predict(X_test)\n",
    "    return mean_absolute_error(y_test, voorspel)"
   ]
  },
  {
   "cell_type": "code",
   "execution_count": null,
   "id": "bf104c85",
   "metadata": {},
   "outputs": [],
   "source": [
    "# Functie voor het vergelijken van verschillende benaderingen\n",
    "def score_dataset(X_train, X_test, y_train, y_test):\n",
    "    model = RandomForestRegressor(n_estimators=10, random_state=0)\n",
    "    model.fit(X_train, y_train)\n",
    "    voorspel = model.predict(X_test)\n",
    "    return mean_absolute_error(y_test, voorspel)"
   ]
  },
  {
   "cell_type": "markdown",
   "id": "b94c2ce4",
   "metadata": {},
   "source": [
    "# Benadering 1 (Kolommen met ontbrekende waarden verwijderen)"
   ]
  },
  {
   "cell_type": "code",
   "execution_count": null,
   "id": "c9e7bc72",
   "metadata": {},
   "outputs": [],
   "source": [
    "# Namen van kolommen met ontbrekende waarden ophalen\n",
    "kolommen_met_onbrekende_waarden = [kol for kol in X_train.columns if X_train[kol].isnull().any()]\n",
    "\n",
    "# Kolommen verwijderen in trainings- en validatiegegevens (controlegegevens)\n",
    "beperkt_X_train = X_train.drop(kolommen_met_onbrekende_waarden, axis=1)\n",
    "beperkt_X_test = X_test.drop(kolommen_met_onbrekende_waarden, axis=1)\n",
    "\n",
    "print(\"MAE van Benadering 1 (kolommen met ontbrekende waarden verwijderen):\")\n",
    "print(score_dataset(beperkt_X_train, beperkt_X_test, y_train, y_test))"
   ]
  },
  {
   "cell_type": "markdown",
   "id": "00f4209e",
   "metadata": {},
   "source": [
    "# benadering 2 (imputatie)"
   ]
  },
  {
   "cell_type": "code",
   "execution_count": null,
   "id": "4b16f7ea",
   "metadata": {},
   "outputs": [],
   "source": [
    "from sklearn.impute import SimpleImputer\n",
    "\n",
    "# Imputatie\n",
    "mijn_imputatie = SimpleImputer()\n",
    "imputatie_X_train = pd.DataFrame(mijn_imputatie.fit_transform(X_train))\n",
    "imputatie_X_test = pd.DataFrame(mijn_imputatie.transform(X_test))\n",
    "\n",
    "# Imputatie verwijderde kolomnamen; plaatste ze terug\n",
    "imputatie_X_train.columns = X_train.columns\n",
    "imputatie_X_test.columns = X_test.columns\n",
    "\n",
    "print(\"MAE van benadering 2 (Imputatie):\")\n",
    "print(score_dataset(imputatie_X_train, imputatie_X_test, y_train, y_test))"
   ]
  },
  {
   "cell_type": "code",
   "execution_count": null,
   "id": "3ac54305",
   "metadata": {},
   "outputs": [],
   "source": [
    "# Kopie maken om te voorkomen dat originele gegevens worden gewijzigd (bij imputatie)\n",
    "X_train_plus = X_train.copy()\n",
    "X_test_plus = X_test.copy()\n",
    "\n",
    "\n",
    "# Nieuwe kolommen maken die aangeven wat er wordt geïmputeerd\n",
    "for col in kolommen_met_onbrekende_waarden:\n",
    "   X_train_plus[col + '_ontbrak'] = X_train_plus[col].isnull()\n",
    "   X_test_plus[col + '_ontbrak'] = X_test_plus[col].isnull()\n",
    "\n",
    "\n",
    "# Imputatie\n",
    "my_imputer = SimpleImputer()\n",
    "imputed_X_train_plus = pd.DataFrame(my_imputer.fit_transform(X_train_plus))\n",
    "imputed_X_valid_plus = pd.DataFrame(my_imputer.transform(X_test_plus))\n",
    "\n",
    "\n",
    "# Imputatie verwijderde kolomnamen; zet ze terug\n",
    "imputed_X_train_plus.columns = X_train_plus.columns\n",
    "imputed_X_valid_plus.columns = X_test_plus.columns\n",
    "\n",
    "\n",
    "print(\"MAE van benadering 3 (Een uitbreiding op Imputatie):\")\n",
    "print(score_dataset(imputed_X_train_plus, imputed_X_valid_plus, y_train, y_test))"
   ]
  },
  {
   "cell_type": "code",
   "execution_count": null,
   "id": "7769df90",
   "metadata": {},
   "outputs": [],
   "source": [
    "# Vorm van trainingsgegevens (num_rows, num_columns)\n",
    "print(X_train.shape)\n",
    "\n",
    "# Aantal ontbrekende waarden in elke kolom van trainingsgegevens\n",
    "\n",
    "ontbrekende_waarden_per_kolom = (X_train.isnull().sum())\n",
    "print(ontbrekende_waarden_per_kolom[ontbrekende_waarden_per_kolom > 0])"
   ]
  }
 ],
 "metadata": {
  "kernelspec": {
   "display_name": ".venv",
   "language": "python",
   "name": "python3"
  },
  "language_info": {
   "codemirror_mode": {
    "name": "ipython",
    "version": 3
   },
   "file_extension": ".py",
   "mimetype": "text/x-python",
   "name": "python",
   "nbconvert_exporter": "python",
   "pygments_lexer": "ipython3",
   "version": "3.11.9"
  }
 },
 "nbformat": 4,
 "nbformat_minor": 5
}
