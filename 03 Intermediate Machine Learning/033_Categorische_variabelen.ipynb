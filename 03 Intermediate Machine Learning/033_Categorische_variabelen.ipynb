{
 "cells": [
  {
   "cell_type": "markdown",
   "id": "e6382ebc",
   "metadata": {},
   "source": [
    "# Categorische variabelen"
   ]
  },
  {
   "cell_type": "code",
   "execution_count": null,
   "id": "8e7930c6",
   "metadata": {},
   "outputs": [],
   "source": [
    "import pandas as pd\n",
    "from sklearn.model_selection import train_test_split\n",
    "\n",
    "# Lees de gegevens in\n",
    "data_bestand = '../data/data.csv'\n",
    "data = pd.read_csv(data_bestand)\n",
    "\n",
    "# Splits tussen doel van voorspellers\n",
    "y = data.Price\n",
    "X = data.drop(['Price'], axis=1)\n",
    "\n",
    "# Verdeel de gegevens tussen training en test\n",
    "X_train_full, X_test_full, y_train, y_test = train_test_split(X, y, train_size=0.8, test_size=0.2, random_state=0)\n",
    "\n",
    "# Wis de kolommen met missende waarden (simpelste oplossing)\n",
    "kolommen_met_onbrekende_gegevens = [kol for kol in X_train_full.columns if X_train_full[kol].isnull().any()] \n",
    "X_train_full.drop(kolommen_met_onbrekende_gegevens, axis=1, inplace=True)\n",
    "X_test_full.drop(kolommen_met_onbrekende_gegevens, axis=1, inplace=True)\n",
    "\n",
    "# \"Kardinaliteit\" betekent het aantal unieke waarden in een kolom\n",
    "# Selecteer categorische kolommen met relatief lage kardinaliteit (handig maar willekeurig)\n",
    "lage_kardinaliteit_kolommen = [cname for cname in X_train_full.columns if X_train_full[cname].nunique() < 10 and X_train_full[cname].dtype == \"object\"]\n",
    "\n",
    "# Numerieke kolommen selecteren\n",
    "Numerieke_kolommen = [cname for cname in X_train_full.columns if X_train_full[cname].dtype in ['int64', 'float64']]\n",
    "\n",
    "# Keep selected columns only\n",
    "mijn_kolommen = lage_kardinaliteit_kolommen + Numerieke_kolommen\n",
    "X_train = X_train_full[mijn_kolommen].copy()\n",
    "X_test = X_test_full[mijn_kolommen].copy()"
   ]
  },
  {
   "cell_type": "code",
   "execution_count": null,
   "id": "8dc2d980",
   "metadata": {},
   "outputs": [],
   "source": [
    "X_train.head()"
   ]
  },
  {
   "cell_type": "code",
   "execution_count": null,
   "id": "a814ea43",
   "metadata": {},
   "outputs": [],
   "source": [
    "# Haal lijst op met categorische variabelen\n",
    "s = (X_train.dtypes == 'object')\n",
    "object_kolommen = list(s[s].index)\n",
    "\n",
    "print(\"Categorische variabelen:\")\n",
    "print(object_kolommen)"
   ]
  },
  {
   "cell_type": "markdown",
   "id": "9553aa42",
   "metadata": {},
   "source": [
    "## kwaliteit van elke benadering te meten"
   ]
  },
  {
   "cell_type": "code",
   "execution_count": null,
   "id": "65161a33",
   "metadata": {},
   "outputs": [],
   "source": [
    "from sklearn.ensemble import RandomForestRegressor\n",
    "from sklearn.metrics import mean_absolute_error\n",
    "\n",
    "# Functie voor het vergelijken van verschillende benaderingen\n",
    "def score_dataset(X_train, X_test, y_train, y_test):\n",
    "    model = RandomForestRegressor(n_estimators=100, random_state=0)\n",
    "    model.fit(X_train, y_train)\n",
    "    preds = model.predict(X_test)\n",
    "    \n",
    "    return mean_absolute_error(y_test, preds)"
   ]
  },
  {
   "cell_type": "markdown",
   "id": "34ebdb9d",
   "metadata": {},
   "source": [
    "### Benadering 1 (categorische variabelen verwijderen)"
   ]
  },
  {
   "cell_type": "code",
   "execution_count": null,
   "id": "9f1498b6",
   "metadata": {},
   "outputs": [],
   "source": [
    "drop_X_train = X_train.select_dtypes(exclude=['object'])\n",
    "drop_X_test = X_test.select_dtypes(exclude=['object'])\n",
    "\n",
    "print(\"MAE van Benadering 1 (Ordinale codering):\")\n",
    "print(score_dataset(drop_X_train, drop_X_test, y_train, y_test))"
   ]
  },
  {
   "cell_type": "markdown",
   "id": "3dbc4d64",
   "metadata": {},
   "source": [
    "### Benadering 2 (Ordinale codering)"
   ]
  },
  {
   "cell_type": "code",
   "execution_count": null,
   "id": "de42cf60",
   "metadata": {},
   "outputs": [],
   "source": [
    "from sklearn.preprocessing import OrdinalEncoder\n",
    "\n",
    "# Kopie maken om te voorkomen dat originele data verandert\n",
    "label_X_train = X_train.copy()\n",
    "label_X_test = X_test.copy()\n",
    "\n",
    "# Ordinale encoder toepassen op elke kolom met categorische data\n",
    "ordinale_encoder = OrdinalEncoder()\n",
    "label_X_train[object_kolommen] = ordinale_encoder.fit_transform(X_train[object_kolommen])\n",
    "label_X_test[object_kolommen] = ordinale_encoder.transform(X_test[object_kolommen])\n",
    "\n",
    "print(\"MAE van Benadering 2 (Ordinale codering):\")\n",
    "print(score_dataset(label_X_train, label_X_test, y_train, y_test))"
   ]
  },
  {
   "cell_type": "markdown",
   "id": "9bc76b57",
   "metadata": {},
   "source": [
    "### Benadering 3 (One-Hot-codering)"
   ]
  },
  {
   "cell_type": "code",
   "execution_count": null,
   "id": "096695ae",
   "metadata": {},
   "outputs": [],
   "source": [
    "from sklearn.preprocessing import OneHotEncoder\n",
    "\n",
    "# Pas one-hot encoder toe op elke kolom met categorische gegevens\n",
    "OH_encoder = OneHotEncoder(handle_unknown='ignore')\n",
    "OH_cols_train = pd.DataFrame(OH_encoder.fit_transform(X_train[object_kolommen]).toarray())  # Convert to dense array\n",
    "OH_cols_test = pd.DataFrame(OH_encoder.transform(X_test[object_kolommen]).toarray())        # Convert to dense array\n",
    "\n",
    "# One-hot encoding verwijderd index; zet het terug\n",
    "OH_cols_train.index = X_train.index\n",
    "OH_cols_test.index = X_test.index\n",
    "\n",
    "# Verwijder categorische kolommen (zal vervangen worden door one-hot encoding)\n",
    "num_X_train = X_train.drop(object_kolommen, axis=1)\n",
    "num_X_test = X_test.drop(object_kolommen, axis=1)\n",
    "\n",
    "# Voeg one-hot gecodeerde kolommen toe aan numerieke features\n",
    "OH_X_train = pd.concat([num_X_train, OH_cols_train], axis=1)\n",
    "OH_X_test = pd.concat([num_X_test, OH_cols_test], axis=1)\n",
    "\n",
    "# Zorg ervoor dat alle kolommen een stringtype hebben\n",
    "OH_X_train.columns = OH_X_train.columns.astype(str)\n",
    "OH_X_test.columns = OH_X_test.columns.astype(str)\n",
    "\n",
    "print(\"MAE van Approach 3 (One-Hot Encoding):\")\n",
    "print(score_dataset(OH_X_train, OH_X_test, y_train, y_test))"
   ]
  }
 ],
 "metadata": {
  "kernelspec": {
   "display_name": ".venv",
   "language": "python",
   "name": "python3"
  },
  "language_info": {
   "codemirror_mode": {
    "name": "ipython",
    "version": 3
   },
   "file_extension": ".py",
   "mimetype": "text/x-python",
   "name": "python",
   "nbconvert_exporter": "python",
   "pygments_lexer": "ipython3",
   "version": "3.11.9"
  }
 },
 "nbformat": 4,
 "nbformat_minor": 5
}
