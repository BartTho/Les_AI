{
 "cells": [
  {
   "cell_type": "code",
   "execution_count": null,
   "id": "341d5eb9",
   "metadata": {},
   "outputs": [],
   "source": [
    "import pandas as pd\n",
    "from sklearn.model_selection import train_test_split"
   ]
  },
  {
   "cell_type": "code",
   "execution_count": null,
   "id": "56fd8937",
   "metadata": {},
   "outputs": [],
   "source": [
    "data_bestand = '../data/data.csv'\n",
    "data = pd.read_csv(data_bestand)"
   ]
  },
  {
   "cell_type": "code",
   "execution_count": null,
   "id": "d2e09bd2",
   "metadata": {},
   "outputs": [],
   "source": [
    "data.shape[0]\n",
    "len(data)\n",
    "data[data.columns[0]].count()"
   ]
  },
  {
   "cell_type": "code",
   "execution_count": null,
   "id": "8e0ab5ba",
   "metadata": {},
   "outputs": [],
   "source": [
    "data.shape[1]\n",
    "len(data.columns)"
   ]
  },
  {
   "cell_type": "code",
   "execution_count": null,
   "id": "df14e075",
   "metadata": {},
   "outputs": [],
   "source": [
    "data.isnull().sum()"
   ]
  },
  {
   "cell_type": "code",
   "execution_count": null,
   "id": "137caca7",
   "metadata": {},
   "outputs": [],
   "source": [
    "data.isnull().sum()/len(data)*100"
   ]
  },
  {
   "cell_type": "code",
   "execution_count": null,
   "id": "8c1d6b06",
   "metadata": {},
   "outputs": [],
   "source": [
    "data = data[data['Price'].notna()]\n",
    "data.isnull().sum()/len(data)*100"
   ]
  }
 ],
 "metadata": {
  "kernelspec": {
   "display_name": ".venv",
   "language": "python",
   "name": "python3"
  },
  "language_info": {
   "codemirror_mode": {
    "name": "ipython",
    "version": 3
   },
   "file_extension": ".py",
   "mimetype": "text/x-python",
   "name": "python",
   "nbconvert_exporter": "python",
   "pygments_lexer": "ipython3",
   "version": "3.11.9"
  }
 },
 "nbformat": 4,
 "nbformat_minor": 5
}
