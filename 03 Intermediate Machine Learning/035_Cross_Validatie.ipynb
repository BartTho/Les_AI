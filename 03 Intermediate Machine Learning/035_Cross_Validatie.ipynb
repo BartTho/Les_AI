{
 "cells": [
  {
   "cell_type": "markdown",
   "id": "b3661e53",
   "metadata": {},
   "source": [
    "# Cross-validatie"
   ]
  },
  {
   "cell_type": "code",
   "execution_count": null,
   "id": "ffb4ff98",
   "metadata": {},
   "outputs": [],
   "source": [
    "import pandas as pd\n",
    "\n",
    "# Lees de data\n",
    "data_bestand = \"../data/data.csv\"\n",
    "data = pd.read_csv(data_bestand)\n",
    "\n",
    "# Selecteer subset van predictors\n",
    "cols_to_use = ['Rooms', 'Distance', 'Landsize', 'BuildingArea', 'YearBuilt']\n",
    "X = data[cols_to_use]\n",
    "\n",
    "# Selecteer doel\n",
    "y = data.Price"
   ]
  },
  {
   "cell_type": "code",
   "execution_count": null,
   "id": "a9893710",
   "metadata": {},
   "outputs": [],
   "source": [
    "from sklearn.ensemble import RandomForestRegressor\n",
    "from sklearn.pipeline import Pipeline\n",
    "from sklearn.impute import SimpleImputer\n",
    "\n",
    "my_pipeline = Pipeline(steps=[('preprocessor', SimpleImputer()),\n",
    "('model', RandomForestRegressor(n_estimators=50,\n",
    "random_state=0))\n",
    "])"
   ]
  },
  {
   "cell_type": "code",
   "execution_count": null,
   "id": "5ab856ba",
   "metadata": {},
   "outputs": [],
   "source": [
    "from sklearn.model_selection import cross_val_score\n",
    "\n",
    "# Vermenigvuldig met -1 omdat sklearn *negatieve* MAE berekent\n",
    "scores = -1 * cross_val_score(my_pipeline, X, y, cv=5, scoring='neg_mean_absolute_error')\n",
    "\n",
    "print(\"MAE scores:\\n\", scores)  "
   ]
  },
  {
   "cell_type": "code",
   "execution_count": null,
   "id": "62ba80c0",
   "metadata": {},
   "outputs": [],
   "source": [
    "print(\"Gemiddelde MAE-score (over experimenten heen):\")\n",
    "print(scores.mean())"
   ]
  }
 ],
 "metadata": {
  "kernelspec": {
   "display_name": ".venv",
   "language": "python",
   "name": "python3"
  },
  "language_info": {
   "codemirror_mode": {
    "name": "ipython",
    "version": 3
   },
   "file_extension": ".py",
   "mimetype": "text/x-python",
   "name": "python",
   "nbconvert_exporter": "python",
   "pygments_lexer": "ipython3",
   "version": "3.11.9"
  }
 },
 "nbformat": 4,
 "nbformat_minor": 5
}
