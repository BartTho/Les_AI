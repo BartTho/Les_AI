{
 "cells": [
  {
   "cell_type": "code",
   "execution_count": null,
   "id": "5ff7d6a8",
   "metadata": {},
   "outputs": [],
   "source": [
    "#%pip install numpy\n",
    "#%pip install matplotlib"
   ]
  },
  {
   "cell_type": "code",
   "execution_count": null,
   "id": "2c6519cf",
   "metadata": {},
   "outputs": [],
   "source": [
    "import numpy as np\n",
    "import matplotlib.pyplot as plt"
   ]
  },
  {
   "cell_type": "code",
   "execution_count": null,
   "id": "d77c7593",
   "metadata": {},
   "outputs": [],
   "source": [
    "inputs = [1.0, 2.0, 3.0, 2.5]\n",
    "weights = [0.2, 0.8, -0.5, 1.0]\n",
    "bias = 2.0\n",
    "output = np.dot(inputs, weights) + bias\n",
    "print(\"Output:\", output)"
   ]
  },
  {
   "cell_type": "code",
   "execution_count": null,
   "id": "b07f18ed",
   "metadata": {},
   "outputs": [],
   "source": [
    "inputs = [1, 2, 3, 2.5]\n",
    "weights1 = [0.2, 0.8, -0.5, 1]\n",
    "weights2 = [0.5, -0.91, 0.26, -0.5]\n",
    "weights3 = [-0.26, -0.27, 0.17, 0.87]\n",
    "bias1 = 2\n",
    "bias2 = 3\n",
    "bias3 = 0.5\n",
    "neuron1 = np.dot(inputs, weights1) + bias1\n",
    "neuron2 = np.dot(inputs, weights2) + bias2\n",
    "neuron3 = np.dot(inputs, weights3) + bias3\n",
    "print(\"Neuron 1:\", neuron1)\n",
    "print(\"Neuron 2:\", neuron2)   \n",
    "print(\"Neuron 3:\", neuron3)\n"
   ]
  },
  {
   "cell_type": "code",
   "execution_count": null,
   "id": "46631d2b",
   "metadata": {},
   "outputs": [],
   "source": [
    "inputs = [1, 2, 3, 2.5]\n",
    "weights = [[0.2, 0.8, -0.5, 1], [0.5, -0.91, 0.26, -0.5], [-0.26, -0.27, 0.17, 0.87]]\n",
    "bias1 = [2, 3, 0.5]\n",
    "\n",
    "laag_output = []\n",
    "for i in range(3):\n",
    "    neuron_output = np.dot(inputs, weights[i]) + bias1[i]\n",
    "    laag_output.append(neuron_output)\n",
    "\n",
    "print(\"Output:\", laag_output)"
   ]
  },
  {
   "cell_type": "code",
   "execution_count": null,
   "id": "4c9d263d",
   "metadata": {},
   "outputs": [],
   "source": [
    "inputs = [1.0, 2.0, -3.0]\n",
    "weights = [-1.0, 0.0, 0.0]\n",
    "bias = 0.0\n",
    "output = np.dot(inputs, weights) + bias\n",
    "print(\"Output:\", output)"
   ]
  },
  {
   "cell_type": "markdown",
   "id": "bca35e8f",
   "metadata": {},
   "source": [
    "#A tensor object is an object that can be represented as an array."
   ]
  },
  {
   "cell_type": "code",
   "execution_count": null,
   "id": "9cf08f56",
   "metadata": {},
   "outputs": [],
   "source": [
    "inputs = [1.0, 2.0, -3.0]\n",
    "weights = [1.0, 0.0, 0.0]\n",
    "bias1 = [0.0]\n",
    "\n",
    "laag_output = []\n",
    "for i in range(3):\n",
    "    neuron_output = np.dot(inputs, weights[i]) + bias1\n",
    "    laag_output.append(neuron_output)\n",
    "\n",
    "print(\"Output:\", laag_output)"
   ]
  }
 ],
 "metadata": {
  "kernelspec": {
   "display_name": ".venv",
   "language": "python",
   "name": "python3"
  },
  "language_info": {
   "codemirror_mode": {
    "name": "ipython",
    "version": 3
   },
   "file_extension": ".py",
   "mimetype": "text/x-python",
   "name": "python",
   "nbconvert_exporter": "python",
   "pygments_lexer": "ipython3",
   "version": "3.11.9"
  }
 },
 "nbformat": 4,
 "nbformat_minor": 5
}
