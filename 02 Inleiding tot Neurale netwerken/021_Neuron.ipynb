{
 "cells": [
  {
   "cell_type": "code",
   "execution_count": 1,
   "id": "2c6519cf",
   "metadata": {},
   "outputs": [],
   "source": [
    "import numpy as np\n",
    "import matplotlib.pyplot as plt"
   ]
  },
  {
   "cell_type": "code",
   "execution_count": 3,
   "id": "d77c7593",
   "metadata": {},
   "outputs": [
    {
     "name": "stdout",
     "output_type": "stream",
     "text": [
      "Output: 4.8\n"
     ]
    }
   ],
   "source": [
    "inputs = [1.0, 2.0, 3.0, 2.5]\n",
    "weights = [0.2, 0.8, -0.5, 1.0]\n",
    "bias = 2.0\n",
    "output = np.dot(inputs, weights) + bias\n",
    "print(\"Output:\", output)"
   ]
  },
  {
   "cell_type": "code",
   "execution_count": null,
   "id": "b07f18ed",
   "metadata": {},
   "outputs": [
    {
     "name": "stdout",
     "output_type": "stream",
     "text": [
      "Neuron 1: 4.8\n",
      "Neuron 2: 1.21\n",
      "Neuron 3: 2.385\n"
     ]
    }
   ],
   "source": [
    "inputs = [1, 2, 3, 2.5]\n",
    "weights1 = [0.2, 0.8, -0.5, 1]\n",
    "weights2 = [0.5, -0.91, 0.26, -0.5]\n",
    "weights3 = [-0.26, -0.27, 0.17, 0.87]\n",
    "bias1 = 2\n",
    "bias2 = 3\n",
    "bias3 = 0.5\n",
    "neuron1 = np.dot(inputs, weights1) + bias1\n",
    "neuron2 = np.dot(inputs, weights2) + bias2\n",
    "neuron3 = np.dot(inputs, weights3) + bias3\n",
    "print(\"Neuron 1:\", neuron1)\n",
    "print(\"Neuron 2:\", neuron2)   \n",
    "print(\"Neuron 3:\", neuron3)\n"
   ]
  },
  {
   "cell_type": "code",
   "execution_count": 17,
   "id": "46631d2b",
   "metadata": {},
   "outputs": [
    {
     "name": "stdout",
     "output_type": "stream",
     "text": [
      "Output: [np.float64(4.8), np.float64(1.21), np.float64(2.385)]\n"
     ]
    }
   ],
   "source": [
    "inputs = [1, 2, 3, 2.5]\n",
    "weights = [[0.2, 0.8, -0.5, 1], [0.5, -0.91, 0.26, -0.5], [-0.26, -0.27, 0.17, 0.87]]\n",
    "bias1 = [2, 3, 0.5]\n",
    "\n",
    "laag_output = []\n",
    "for i in range(3):\n",
    "    neuron_output = np.dot(inputs, weights[i]) + bias1[i]\n",
    "    laag_output.append(neuron_output)\n",
    "\n",
    "print(\"Output:\", laag_output)"
   ]
  },
  {
   "cell_type": "code",
   "execution_count": 18,
   "id": "4c9d263d",
   "metadata": {},
   "outputs": [
    {
     "name": "stdout",
     "output_type": "stream",
     "text": [
      "Output: -1.0\n"
     ]
    }
   ],
   "source": [
    "inputs = [1.0, 2.0, -3.0]\n",
    "weights = [-1.0, 0.0, 0.0]\n",
    "bias = 0.0\n",
    "output = np.dot(inputs, weights) + bias\n",
    "print(\"Output:\", output)"
   ]
  },
  {
   "cell_type": "markdown",
   "id": "bca35e8f",
   "metadata": {},
   "source": [
    "#A tensor object is an object that can be represented as an array."
   ]
  },
  {
   "cell_type": "code",
   "execution_count": 12,
   "id": "9cf08f56",
   "metadata": {},
   "outputs": [
    {
     "ename": "IndexError",
     "evalue": "list index out of range",
     "output_type": "error",
     "traceback": [
      "\u001b[31m---------------------------------------------------------------------------\u001b[39m",
      "\u001b[31mIndexError\u001b[39m                                Traceback (most recent call last)",
      "\u001b[36mCell\u001b[39m\u001b[36m \u001b[39m\u001b[32mIn[12]\u001b[39m\u001b[32m, line 7\u001b[39m\n\u001b[32m      5\u001b[39m laag_output = []\n\u001b[32m      6\u001b[39m \u001b[38;5;28;01mfor\u001b[39;00m i \u001b[38;5;129;01min\u001b[39;00m \u001b[38;5;28mrange\u001b[39m(\u001b[32m3\u001b[39m):\n\u001b[32m----> \u001b[39m\u001b[32m7\u001b[39m     neuron_output = np.dot(inputs, weights[i]) + \u001b[43mbias1\u001b[49m\u001b[43m[\u001b[49m\u001b[43mi\u001b[49m\u001b[43m]\u001b[49m\n\u001b[32m      8\u001b[39m     laag_output.append(neuron_output)\n\u001b[32m     10\u001b[39m \u001b[38;5;28mprint\u001b[39m(\u001b[33m\"\u001b[39m\u001b[33mOutput:\u001b[39m\u001b[33m\"\u001b[39m, laag_output)\n",
      "\u001b[31mIndexError\u001b[39m: list index out of range"
     ]
    }
   ],
   "source": [
    "inputs = [1.0, 2.0, -3.0]\n",
    "weights = [1.0, 0.0, 0.0]\n",
    "bias1 = [0.0]\n",
    "\n",
    "laag_output = []\n",
    "for i in range(3):\n",
    "    neuron_output = np.dot(inputs, weights[i]) + bias1[i]\n",
    "    laag_output.append(neuron_output)\n",
    "\n",
    "print(\"Output:\", laag_output)"
   ]
  }
 ],
 "metadata": {
  "kernelspec": {
   "display_name": "Python 3",
   "language": "python",
   "name": "python3"
  },
  "language_info": {
   "codemirror_mode": {
    "name": "ipython",
    "version": 3
   },
   "file_extension": ".py",
   "mimetype": "text/x-python",
   "name": "python",
   "nbconvert_exporter": "python",
   "pygments_lexer": "ipython3",
   "version": "3.11.9"
  }
 },
 "nbformat": 4,
 "nbformat_minor": 5
}
