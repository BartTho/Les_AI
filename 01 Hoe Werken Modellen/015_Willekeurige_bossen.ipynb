{
 "cells": [
  {
   "cell_type": "markdown",
   "id": "e3d0c3d1",
   "metadata": {},
   "source": [
    "# Willekeurige bossen"
   ]
  },
  {
   "cell_type": "code",
   "execution_count": 6,
   "id": "414c76a3",
   "metadata": {},
   "outputs": [],
   "source": [
    "import pandas as pd\n",
    "from sklearn.model_selection import train_test_split\n",
    "\n",
    "# Gegevens laden\n",
    "melbourne_bestand = 'data/melb_data.csv'\n",
    "melbourne_data = pd.read_csv(melbourne_bestand)\n",
    "\n",
    "# Rijen met ontbrekende waarden filteren\n",
    "melbourne_data = melbourne_data.dropna(axis=0)\n",
    "\n",
    "# Doel en functies kiezen\n",
    "y = melbourne_data.Price\n",
    "melbourne_features = ['Rooms', 'Bathroom', 'Landsize', 'BuildingArea', 'YearBuilt', 'Lattitude', 'Longtitude']\n",
    "X = melbourne_data[melbourne_features]\n",
    "\n",
    "# Gegevens splitsen in trainings- en validatiegegevens, voor zowel functies als doel\n",
    "# De splitsing is gebaseerd op een willekeurige getallengenerator. Door een numerieke waarde aan\n",
    "# het argument random_state te geven, garanderen we dat we elke keer dat we dit script uitvoeren, dezelfde splitsing krijgen.\n",
    "X_train, X_test, y_train, y_test = train_test_split(X, y,random_state = 0)"
   ]
  },
  {
   "cell_type": "code",
   "execution_count": 5,
   "id": "e21da268",
   "metadata": {},
   "outputs": [
    {
     "name": "stdout",
     "output_type": "stream",
     "text": [
      "191669.7536453626\n"
     ]
    }
   ],
   "source": [
    "from sklearn.ensemble import RandomForestRegressor\n",
    "from sklearn.metrics import mean_absolute_error\n",
    "\n",
    "forest_model = RandomForestRegressor(random_state=1)\n",
    "forest_model.fit(X_train, y_train)\n",
    "melb_preds = forest_model.predict(X_test)\n",
    "print(mean_absolute_error(y_test, melb_preds))"
   ]
  }
 ],
 "metadata": {
  "kernelspec": {
   "display_name": ".venv",
   "language": "python",
   "name": "python3"
  },
  "language_info": {
   "codemirror_mode": {
    "name": "ipython",
    "version": 3
   },
   "file_extension": ".py",
   "mimetype": "text/x-python",
   "name": "python",
   "nbconvert_exporter": "python",
   "pygments_lexer": "ipython3",
   "version": "3.12.9"
  }
 },
 "nbformat": 4,
 "nbformat_minor": 5
}
