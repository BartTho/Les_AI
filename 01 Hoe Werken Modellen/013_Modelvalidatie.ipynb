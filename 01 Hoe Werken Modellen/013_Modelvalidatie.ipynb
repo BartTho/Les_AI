{
 "cells": [
  {
   "cell_type": "markdown",
   "id": "e38c72d4",
   "metadata": {},
   "source": [
    "# Modelvalidatie"
   ]
  },
  {
   "cell_type": "code",
   "execution_count": null,
   "id": "2c433786",
   "metadata": {},
   "outputs": [],
   "source": [
    "#%pip install pandas\n",
    "#%pip install scikit-learn"
   ]
  },
  {
   "cell_type": "code",
   "execution_count": null,
   "id": "f02ea6f7",
   "metadata": {},
   "outputs": [],
   "source": [
    "# Gegevens laden\n",
    "import pandas as pd\n",
    "from sklearn.tree import DecisionTreeRegressor\n",
    "# Model definiëren\n",
    "\n",
    "data_bestand = '../data/data.csv'\n",
    "data = pd.read_csv(data_bestand) \n",
    "\n",
    "# Rijen met ontbrekende prijswaarden filteren\n",
    "gefilterde_data = data.dropna(axis=0)\n",
    "\n",
    "# Doel en functies kiezen\n",
    "y = gefilterde_data.Price\n",
    "features = ['Rooms', 'Bathroom', 'Landsize', 'BuildingArea', 'YearBuilt', 'Lattitude', 'Longtitude']\n",
    "X = gefilterde_data[features]\n",
    "\n",
    "mijn_model = DecisionTreeRegressor()\n",
    "# Fit model\n",
    "mijn_model.fit(X, y)"
   ]
  },
  {
   "cell_type": "code",
   "execution_count": null,
   "id": "a1b7f541",
   "metadata": {},
   "outputs": [],
   "source": [
    "from sklearn.metrics import mean_absolute_error\n",
    "\n",
    "voorspelde_huis_prijs = mijn_model.predict(X)\n",
    "mean_absolute_error(y, voorspelde_huis_prijs)"
   ]
  },
  {
   "cell_type": "code",
   "execution_count": null,
   "id": "dfbb74c7",
   "metadata": {},
   "outputs": [],
   "source": [
    "from sklearn.model_selection import train_test_split\n",
    "\n",
    "# splits data in trainings- en validatiedata, voor zowel features als target\n",
    "# De splitsing is gebaseerd op een random number generator. Door een numerieke waarde aan\n",
    "# het random_state argument te geven, garanderen we dat we dezelfde splitsing krijgen elke keer dat we\n",
    "# dit script uitvoeren.\n",
    "train_X, val_X, train_y, val_y = train_test_split(X, y, random_state = 0)\n",
    "\n",
    "# Definieer model\n",
    "melbourne_model = DecisionTreeRegressor()\n",
    "\n",
    "# Pas model aan\n",
    "melbourne_model.fit(train_X, train_y)\n",
    "\n",
    "# haal voorspelde prijzen op voor validatiedata\n",
    "val_predictions = melbourne_model.predict(val_X)\n",
    "print(mean_absolute_error(val_y, val_predictions))"
   ]
  }
 ],
 "metadata": {
  "kernelspec": {
   "display_name": ".venv",
   "language": "python",
   "name": "python3"
  },
  "language_info": {
   "codemirror_mode": {
    "name": "ipython",
    "version": 3
   },
   "file_extension": ".py",
   "mimetype": "text/x-python",
   "name": "python",
   "nbconvert_exporter": "python",
   "pygments_lexer": "ipython3",
   "version": "3.11.9"
  }
 },
 "nbformat": 4,
 "nbformat_minor": 5
}
