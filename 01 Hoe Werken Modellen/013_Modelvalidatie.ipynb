{
 "cells": [
  {
   "cell_type": "markdown",
   "id": "e38c72d4",
   "metadata": {},
   "source": [
    "# Modelvalidatie"
   ]
  },
  {
   "cell_type": "code",
   "execution_count": null,
   "id": "2c433786",
   "metadata": {},
   "outputs": [],
   "source": [
    "#%pip install pandas\n",
    "#%pip install scikit-learn"
   ]
  },
  {
   "cell_type": "code",
   "execution_count": null,
   "id": "f02ea6f7",
   "metadata": {},
   "outputs": [],
   "source": [
    "# Gegevens laden\n",
    "import pandas as pd\n",
    "from sklearn.tree import DecisionTreeRegressor\n",
    "# Model definiëren\n",
    "\n",
    "data_bestand = '../data/data.csv'\n",
    "data = pd.read_csv(data_bestand) \n",
    "\n",
    "# Rijen met ontbrekende prijswaarden filteren\n",
    "gefilterde_data = data.dropna(axis=0)\n",
    "\n",
    "# Doel en functies kiezen\n",
    "y = gefilterde_data.Price\n",
    "features = ['Rooms', 'Bathroom', 'Landsize', 'BuildingArea', 'YearBuilt', 'Lattitude', 'Longtitude']\n",
    "X = gefilterde_data[features]\n",
    "\n",
    "mijn_model = DecisionTreeRegressor()\n",
    "# Fit model\n",
    "mijn_model.fit(X, y)"
   ]
  },
  {
   "cell_type": "code",
   "execution_count": null,
   "id": "a1b7f541",
   "metadata": {},
   "outputs": [],
   "source": [
    "from sklearn.metrics import mean_absolute_error\n",
    "\n",
    "voorspelde_huis_prijs = mijn_model.predict(X)\n",
    "mean_absolute_error(y, voorspelde_huis_prijs)"
   ]
  },
  {
   "cell_type": "code",
   "execution_count": null,
   "id": "dfbb74c7",
   "metadata": {},
   "outputs": [],
   "source": [
    "from sklearn.model_selection import train_test_split\n",
    "\n"
   ]
  }
 ],
 "metadata": {
  "kernelspec": {
   "display_name": ".venv",
   "language": "python",
   "name": "python3"
  },
  "language_info": {
   "codemirror_mode": {
    "name": "ipython",
    "version": 3
   },
   "file_extension": ".py",
   "mimetype": "text/x-python",
   "name": "python",
   "nbconvert_exporter": "python",
   "pygments_lexer": "ipython3",
   "version": "3.11.9"
  }
 },
 "nbformat": 4,
 "nbformat_minor": 5
}
