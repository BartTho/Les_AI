{
 "cells": [
  {
   "cell_type": "markdown",
   "id": "d99722a8",
   "metadata": {},
   "source": [
    "# Onderfitting en overfitting"
   ]
  },
  {
   "cell_type": "code",
   "execution_count": 1,
   "id": "4a317664",
   "metadata": {},
   "outputs": [],
   "source": [
    "from sklearn.metrics import mean_absolute_error\n",
    "from sklearn.tree import DecisionTreeRegressor\n",
    "\n",
    "def get_mae(max_leaf_nodes, train_X, val_X, train_y, val_y):\n",
    "    model = DecisionTreeRegressor(max_leaf_nodes=max_leaf_nodes, random_state=0)\n",
    "    model.fit(train_X, train_y)\n",
    "    preds_val = model.predict(val_X)\n",
    "    mae = mean_absolute_error(val_y, preds_val)\n",
    "    return(mae)"
   ]
  },
  {
   "cell_type": "code",
   "execution_count": 5,
   "id": "6a1f2717",
   "metadata": {},
   "outputs": [],
   "source": [
    "# Gegevens laden Code wordt op dit punt uitgevoerd\n",
    "import pandas as pd\n",
    "\n",
    "# Gegevens laden\n",
    "melbourne_bestand = 'data/melb_data.csv'\n",
    "melbourne_data = pd.read_csv(melbourne_bestand) \n",
    "\n",
    "# Rijen met ontbrekende waarden filteren\n",
    "filtered_melbourne_data = melbourne_data.dropna(axis=0)\n",
    "\n",
    "# Doel en functies kiezen\n",
    "y = filtered_melbourne_data.Price\n",
    "melbourne_features = ['Rooms', 'Bathroom', 'Landsize', 'BuildingArea', 'YearBuilt', 'Lattitude', 'Longtitude']\n",
    "X = filtered_melbourne_data[melbourne_features]\n",
    "\n",
    "from sklearn.model_selection import train_test_split\n",
    "# Gegevens splitsen in trainings- en validatiegegevens, voor zowel functies als doel\n",
    "train_X, val_X, train_y, val_y = train_test_split(X, y,random_state=0)"
   ]
  },
  {
   "cell_type": "code",
   "execution_count": 6,
   "id": "db0e97b8",
   "metadata": {},
   "outputs": [
    {
     "name": "stdout",
     "output_type": "stream",
     "text": [
      "Max. bladknooppunten: 5 \t\t Gemiddelde absolute fout: 347380\n",
      "Max. bladknooppunten: 50 \t\t Gemiddelde absolute fout: 258171\n",
      "Max. bladknooppunten: 500 \t\t Gemiddelde absolute fout: 243495\n",
      "Max. bladknooppunten: 5000 \t\t Gemiddelde absolute fout: 255575\n"
     ]
    }
   ],
   "source": [
    "# vergelijk MAE met verschillende waarden van max_leaf_nodes\n",
    "for max_leaf_nodes in [5, 50, 500, 5000]:\n",
    "  mijn_mae = get_mae(max_leaf_nodes, train_X, val_X, train_y, val_y)\n",
    "  print(\"Max. bladknooppunten: %d \\t\\t Gemiddelde absolute fout: %d\" %(max_leaf_nodes, mijn_mae))"
   ]
  }
 ],
 "metadata": {
  "kernelspec": {
   "display_name": ".venv",
   "language": "python",
   "name": "python3"
  },
  "language_info": {
   "codemirror_mode": {
    "name": "ipython",
    "version": 3
   },
   "file_extension": ".py",
   "mimetype": "text/x-python",
   "name": "python",
   "nbconvert_exporter": "python",
   "pygments_lexer": "ipython3",
   "version": "3.12.9"
  }
 },
 "nbformat": 4,
 "nbformat_minor": 5
}
