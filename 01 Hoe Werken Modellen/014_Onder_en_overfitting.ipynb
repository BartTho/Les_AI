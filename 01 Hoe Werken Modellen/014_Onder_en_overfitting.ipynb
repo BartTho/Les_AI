{
 "cells": [
  {
   "cell_type": "markdown",
   "id": "d99722a8",
   "metadata": {},
   "source": [
    "# Onderfitting en overfitting"
   ]
  },
  {
   "cell_type": "code",
   "execution_count": null,
   "id": "4a317664",
   "metadata": {},
   "outputs": [],
   "source": [
    "from sklearn.metrics import mean_absolute_error\n",
    "from sklearn.tree import DecisionTreeRegressor\n",
    "\n",
    "def get_mae(max_leaf_nodes, train_X, val_X, train_y, val_y):\n",
    "    model = DecisionTreeRegressor(max_leaf_nodes=max_leaf_nodes, random_state=0)\n",
    "    model.fit(train_X, train_y)\n",
    "    preds_val = model.predict(val_X)\n",
    "    mae = mean_absolute_error(val_y, preds_val)\n",
    "    return(mae)"
   ]
  },
  {
   "cell_type": "code",
   "execution_count": null,
   "id": "6a1f2717",
   "metadata": {},
   "outputs": [],
   "source": [
    "# Gegevens laden Code wordt op dit punt uitgevoerd\n",
    "import pandas as pd\n",
    "\n",
    "# Gegevens laden\n",
    "data_bestand = '../data/data.csv'\n",
    "data = pd.read_csv(data_bestand) \n",
    "\n",
    "# Rijen met ontbrekende waarden filteren\n",
    "filtered_data = data.dropna(axis=0)\n",
    "\n",
    "# Doel en functies kiezen\n",
    "y = filtered_data.Price\n",
    "features = ['Rooms', 'Bathroom', 'Landsize', 'BuildingArea', 'YearBuilt', 'Lattitude', 'Longtitude']\n",
    "X = filtered_data[features]\n",
    "\n",
    "from sklearn.model_selection import train_test_split\n",
    "# Gegevens splitsen in trainings- en validatiegegevens, voor zowel functies als doel\n",
    "train_X, val_X, train_y, val_y = train_test_split(X, y,random_state=0)"
   ]
  },
  {
   "cell_type": "code",
   "execution_count": null,
   "id": "db0e97b8",
   "metadata": {},
   "outputs": [],
   "source": [
    "# vergelijk MAE met verschillende waarden van max_leaf_nodes\n",
    "for max_leaf_nodes in [5, 50, 500, 5000]:\n",
    "  mijn_mae = get_mae(max_leaf_nodes, train_X, val_X, train_y, val_y)\n",
    "  print(\"Max. bladknooppunten: %d \\t\\t Gemiddelde absolute fout: %d\" %(max_leaf_nodes, mijn_mae))"
   ]
  }
 ],
 "metadata": {
  "kernelspec": {
   "display_name": ".venv",
   "language": "python",
   "name": "python3"
  },
  "language_info": {
   "codemirror_mode": {
    "name": "ipython",
    "version": 3
   },
   "file_extension": ".py",
   "mimetype": "text/x-python",
   "name": "python",
   "nbconvert_exporter": "python",
   "pygments_lexer": "ipython3",
   "version": "3.11.9"
  }
 },
 "nbformat": 4,
 "nbformat_minor": 5
}
