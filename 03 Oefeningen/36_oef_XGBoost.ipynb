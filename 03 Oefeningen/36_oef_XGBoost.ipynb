{
 "cells": [
  {
   "cell_type": "markdown",
   "id": "5a1ba5e4",
   "metadata": {},
   "source": [
    "# Exercise: XGBoost"
   ]
  },
  {
   "cell_type": "code",
   "execution_count": null,
   "id": "d2feb1b2",
   "metadata": {},
   "outputs": [],
   "source": [
    "import pandas as pd\n",
    "from sklearn.model_selection import train_test_split\n",
    "\n",
    "# Lees de gegevens\n",
    "X = pd.read_csv('../data/train.csv', index_col='Id')\n",
    "X_test_full = pd.read_csv('../data/test.csv', index_col='Id')\n",
    "\n",
    "# Verwijder rijen met ontbrekend doel, scheid doel van voorspellers\n",
    "X.dropna(axis=0, subset=['SalePrice'], inplace=True)\n",
    "y = X.SalePrice\n",
    "X.drop(['SalePrice'], axis=1, inplace=True)\n",
    "\n",
    "# Breek validatieset af van trainingsgegevens\n",
    "X_train_full, X_test_full, y_train, y_test = train_test_split(X, y, train_size=0.8, test_size=0.2, random_state=0)\n",
    "\n",
    "# \"Kardinaliteit\" betekent het aantal unieke waarden in een kolom\n",
    "# Selecteer categorische kolommen met relatief lage kardinaliteit (handig maar willekeurig)\n",
    "lage_kardinaliteit_kolommen = [cname for cname in X_train_full.columns if X_train_full[cname].nunique() < 10 and X_train_full[cname].dtype == \"object\"]\n",
    "\n",
    "# Selecteer numerieke kolommen\n",
    "numerieke_kolommen = [cname for cname in X_train_full.columns if X_train_full[cname].dtype in ['int64', 'float64']]\n",
    "\n",
    "# Behoud alleen geselecteerde kolommen\n",
    "mijn_kolommen = lage_kardinaliteit_kolommen + numerieke_kolommen\n",
    "X_train = X_train_full[mijn_kolommen].copy()\n",
    "X_test = X_test_full[mijn_kolommen].copy()\n",
    "\n",
    "# One-hot codeer de data (om de code in te korten gebruiken we pandas)\n",
    "X_train = pd.get_dummies(X_train)\n",
    "X_test = pd.get_dummies(X_test)\n",
    "X_train, X_test = X_train.align(X_test, join='left', axis=1)"
   ]
  },
  {
   "cell_type": "markdown",
   "id": "fdf4d37c",
   "metadata": {},
   "source": [
    "## Stap 1: Model bouwen\n",
    "\n",
    "### Deel A"
   ]
  },
  {
   "cell_type": "code",
   "execution_count": null,
   "id": "505a3d0c",
   "metadata": {},
   "outputs": [],
   "source": [
    "from xgboost import XGBRegressor\n",
    "\n",
    "# Definieer het model\n",
    "mijn_model_1 = ____ # Uw code hier\n",
    "\n",
    "# Pas het model aan\n",
    "____ # Uw code hier"
   ]
  },
  {
   "cell_type": "markdown",
   "id": "1f4e7ca1",
   "metadata": {},
   "source": [
    "### Deel B"
   ]
  },
  {
   "cell_type": "code",
   "execution_count": null,
   "id": "6455560d",
   "metadata": {},
   "outputs": [],
   "source": [
    "from sklearn.metrics import mean_absolute_error\n",
    "\n",
    "# Haal voorspellingen op\n",
    "voorspelling_1 = ____ # Uw code hier"
   ]
  },
  {
   "cell_type": "markdown",
   "id": "4b9d91ba",
   "metadata": {},
   "source": [
    "### Deel C"
   ]
  },
  {
   "cell_type": "code",
   "execution_count": null,
   "id": "f4953f5a",
   "metadata": {},
   "outputs": [],
   "source": [
    "# Bereken MAE\n",
    "mae_1 = ____ # Uw code hier\n",
    "\n",
    "# Verwijder de opmerking om MAE te printen\n",
    "print(\"Gemiddelde absolute fout:\" , mae_1)"
   ]
  },
  {
   "cell_type": "markdown",
   "id": "b397fa08",
   "metadata": {},
   "source": [
    "## Stap 2: Verbeter het model"
   ]
  },
  {
   "cell_type": "code",
   "execution_count": null,
   "id": "cf96588b",
   "metadata": {},
   "outputs": [],
   "source": [
    "# Definieer het model\n",
    "mijn_model_2 =  ........... # Uw code hier\n",
    "\n",
    "# Pas het model aan\n",
    "mijn_model_2............ # Uw code hier\n",
    "\n",
    "\n",
    "# Haal voorspellingen op\n",
    "predictions_2 = ........... # Uw code hier\n",
    "\n",
    "# Bereken MAE\n",
    "mae_2 = ........... # Uw code hier\n",
    "print(\"Mean Absolute Error:\" , mae_2)"
   ]
  },
  {
   "cell_type": "markdown",
   "id": "e89b10da",
   "metadata": {},
   "source": [
    "## Stap 3: Breek het model"
   ]
  },
  {
   "cell_type": "code",
   "execution_count": null,
   "id": "6a376056",
   "metadata": {},
   "outputs": [],
   "source": [
    "# Definieer het model\n",
    "mijn_model_3 = ____\n",
    "\n",
    "# Pas het model aan\n",
    "____ # Uw code hier\n",
    "\n",
    "# Haal voorspellingen op\n",
    "voorspelling_3 = ____\n",
    "\n",
    "# Bereken MAE\n",
    "mae_3 = ____\n",
    "\n",
    "# Verwijder de opmerking om MAE te printen\n",
    "print(\"Gemiddelde absolute fout:\" , mae_3)"
   ]
  }
 ],
 "metadata": {
  "kernelspec": {
   "display_name": ".venv",
   "language": "python",
   "name": "python3"
  },
  "language_info": {
   "name": "python",
   "version": "3.11.9"
  }
 },
 "nbformat": 4,
 "nbformat_minor": 5
}
