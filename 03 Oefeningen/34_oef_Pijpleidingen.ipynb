{
 "cells": [
  {
   "cell_type": "markdown",
   "id": "4b2fee31",
   "metadata": {},
   "source": [
    "# Oefening: Pijpleidingen"
   ]
  },
  {
   "cell_type": "code",
   "execution_count": null,
   "id": "4457a73d",
   "metadata": {},
   "outputs": [],
   "source": [
    "import pandas as pd\n",
    "from sklearn.model_selection import train_test_split\n",
    "\n",
    "# Lees de gegevens\n",
    "X_full = pd.read_csv('../data/train.csv', index_col='Id')\n",
    "X_test_full = pd.read_csv('../data/test.csv', index_col='Id')\n",
    "\n",
    "# Verwijder rijen met ontbrekend doel, scheid doel van voorspellers\n",
    "X_full.dropna(axis=0, subset=['SalePrice'], inplace=True)\n",
    "y = X_full.SalePrice\n",
    "X_full.drop(['SalePrice'], axis=1, inplace=True)\n",
    "\n",
    "# Breek validatieset af van trainingsgegevens\n",
    "X_train_full, X_test_full, y_train, y_test = train_test_split(\n",
    "X_full, y, train_size=0.8, test_size=0.2,random_state=0)\n",
    "\n",
    "# \"Kardinaliteit\" betekent het aantal unieke waarden in een kolom\n",
    "# Selecteer categorische kolommen met relatief lage kardinaliteit (handig maar willekeurig)\n",
    "categorisch_kolommen = [cname for cname in X_train_full.columns\n",
    "if X_train_full[cname].nunique() < 10 and X_train_full[cname].dtype == \"object\"]\n",
    "\n",
    "# Selecteer numerieke kolommen\n",
    "numeriche_kolommen = [cname for cname in X_train_full.columns\n",
    "if X_train_full[cname].dtype in ['int64', 'float64']]\n",
    "\n",
    "# Behoud alleen geselecteerde kolommen\n",
    "mijn_kolommen = categorisch_kolommen + numeriche_kolommen\n",
    "X_train = X_train_full[mijn_kolommen].copy()\n",
    "X_test = X_test_full[mijn_kolommen].copy()"
   ]
  },
  {
   "cell_type": "code",
   "execution_count": null,
   "id": "fa808eb2",
   "metadata": {},
   "outputs": [],
   "source": [
    "X_train.head()"
   ]
  },
  {
   "cell_type": "code",
   "execution_count": null,
   "id": "5f687271",
   "metadata": {},
   "outputs": [],
   "source": [
    "from sklearn.compose import ColumnTransformer\n",
    "from sklearn.pipeline import Pipeline\n",
    "from sklearn.impute import SimpleImputer\n",
    "from sklearn.preprocessing import OneHotEncoder\n",
    "from sklearn.ensemble import RandomForestRegressor\n",
    "from sklearn.metrics import mean_absolute_error\n",
    "\n",
    "# Preprocessing voor numerieke gegevens\n",
    "numerische_transformator = SimpleImputer(strategy='constant')\n",
    "\n",
    "# Preprocessing voor categorische gegevens\n",
    "categorisch_transformator = Pipeline(steps=[\n",
    "  ('imputer', SimpleImputer(strategy='most_frequent')),\n",
    "  ('onehot', OneHotEncoder(handle_unknown='ignore'))\n",
    "  ])\n",
    "\n",
    "# Bundle preprocessing voor numerieke en categorische gegevens\n",
    "preprocessor = ColumnTransformer(\n",
    "transformers=[\n",
    "  ('num', numerische_transformator, numeriche_kolommen),\n",
    "  ('cat', categorisch_transformator, categorisch_kolommen)\n",
    "  ])\n",
    "\n",
    "# Definieer model\n",
    "model = RandomForestRegressor(n_estimators=100, random_state=0)\n",
    "\n",
    "# Bundel preprocessing en modellering van code in een pijplijn\n",
    "clf = Pipeline(steps=[('preprocessor', preprocessor),('model', model)])\n",
    "\n",
    "# Preprocessing van trainingsgegevens, fit model\n",
    "clf.fit(X_train, y_train)\n",
    "\n",
    "# Preprocessing van validatiegegevens, voorspellingen ophalen\n",
    "preds = clf.predict(X_test)\n",
    "\n",
    "print('MAE:', mean_absolute_error(y_test, preds))"
   ]
  },
  {
   "cell_type": "markdown",
   "id": "013f6478",
   "metadata": {},
   "source": [
    "## Stap 1: Verbeter de prestaties"
   ]
  },
  {
   "cell_type": "markdown",
   "id": "449c7adc",
   "metadata": {},
   "source": [
    "### Deel A"
   ]
  },
  {
   "cell_type": "code",
   "execution_count": null,
   "id": "d539e991",
   "metadata": {},
   "outputs": [],
   "source": [
    "# Preprocessing voor numerieke data\n",
    "numerical_transformer = XXXXX # Uw code hier\n",
    "\n",
    "# Preprocessing voor categorische data\n",
    "categorical_transformer = XXXXX # Uw code hier\n",
    "\n",
    "# Bundel preprocessing voor numerieke en categorische data\n",
    "preprocessor = ColumnTransformer(\n",
    "transformers=[\n",
    "    ('num', numerical_transformer, numerical_cols),\n",
    "    ('cat', categorical_transformer, categorical_cols)\n",
    "])\n",
    "\n",
    "# Definieer model\n",
    "model = XXXXX # Uw code hier"
   ]
  },
  {
   "cell_type": "markdown",
   "id": "d79df1ef",
   "metadata": {},
   "source": [
    "### Deel B"
   ]
  },
  {
   "cell_type": "code",
   "execution_count": null,
   "id": "2fa5750d",
   "metadata": {},
   "outputs": [],
   "source": [
    "# Bundel preprocessing en modellering van code in een pijplijn\n",
    "mijn_pijpleiding = Pipeline(steps=[('preprocessor', preprocessor),('model', model)])\n",
    "\n",
    "# Preprocessing van trainingsgegevens, fit model\n",
    "mijn_pijpleiding.fit(X_train, y_train)\n",
    "\n",
    "# Preprocessing van validatiegegevens, voorspellingen ophalen\n",
    "preds = mijn_pijpleiding.predict(X_test)\n",
    "\n",
    "# Evalueer het model\n",
    "score = mean_absolute_error(y_test, preds)\n",
    "print('MAE:', score)"
   ]
  },
  {
   "cell_type": "markdown",
   "id": "4774c7f2",
   "metadata": {},
   "source": [
    "## Stap 2: Genereer testvoorspellingen"
   ]
  },
  {
   "cell_type": "code",
   "execution_count": null,
   "id": "1bf26f3d",
   "metadata": {},
   "outputs": [],
   "source": [
    "# Preprocessing van testgegevens, fit model\n",
    "preds_test = XXXXX # Uw code hier"
   ]
  }
 ],
 "metadata": {
  "kernelspec": {
   "display_name": ".venv",
   "language": "python",
   "name": "python3"
  },
  "language_info": {
   "codemirror_mode": {
    "name": "ipython",
    "version": 3
   },
   "file_extension": ".py",
   "mimetype": "text/x-python",
   "name": "python",
   "nbconvert_exporter": "python",
   "pygments_lexer": "ipython3",
   "version": "3.11.9"
  }
 },
 "nbformat": 4,
 "nbformat_minor": 5
}
