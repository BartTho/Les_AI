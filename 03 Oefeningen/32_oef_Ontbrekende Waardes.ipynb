{
 "cells": [
  {
   "cell_type": "markdown",
   "id": "a0736ba8",
   "metadata": {},
   "source": [
    "#Ontbrekende Waardes"
   ]
  },
  {
   "cell_type": "markdown",
   "id": "78821d6c",
   "metadata": {},
   "source": [
    "# Voorbeeld"
   ]
  },
  {
   "cell_type": "code",
   "execution_count": 4,
   "id": "68881f91",
   "metadata": {},
   "outputs": [],
   "source": [
    "import pandas as pd\n",
    "from sklearn.model_selection import train_test_split\n",
    "\n",
    "# Lees de gegevens\n",
    "Iowa_bestand = '../data/train.csv'\n",
    "huis_data_train = pd.read_csv(Iowa_bestand)\n",
    "\n",
    "huis_bestand = '../data/test.csv'\n",
    "huis_data_test = pd.read_csv(Iowa_bestand)\n",
    "\n",
    "# Verwijder rijen met ontbrekend doel, scheid doel van voorspellers\n",
    "huis_data_train.dropna(axis=0, subset=['SalePrice'], inplace=True)\n",
    "y = huis_data_train.SalePrice\n",
    "huis_data_train.drop(['SalePrice'], axis=1, inplace=True)\n",
    "\n",
    "# Om het simpel te houden, gebruiken we alleen numerieke voorspellers\n",
    "X = huis_data_train.select_dtypes(exclude=['object'])\n",
    "X_test = huis_data_test.select_dtypes(exclude=['object'])\n",
    "\n",
    "# Validatieset afbreken van trainingsgegevens\n",
    "X_train, X_test, y_train, y_test = train_test_split(X, y, train_size=0.8, test_size=0.2, random_state=0)"
   ]
  },
  {
   "cell_type": "markdown",
   "id": "35a44df9",
   "metadata": {},
   "source": [
    "## Definieer functie om de kwaliteit van elke benadering te meten"
   ]
  },
  {
   "cell_type": "code",
   "execution_count": 5,
   "id": "3b8f4824",
   "metadata": {},
   "outputs": [],
   "source": [
    "from sklearn.ensemble import RandomForestRegressor\n",
    "from sklearn.metrics import mean_absolute_error"
   ]
  },
  {
   "cell_type": "code",
   "execution_count": 6,
   "id": "c121d69e",
   "metadata": {},
   "outputs": [],
   "source": [
    "# Functie voor het vergelijken van verschillende benaderingen\n",
    "def score_dataset(X_train, X_test, y_train, y_test):\n",
    "    model = RandomForestRegressor(n_estimators=10, random_state=0)\n",
    "    model.fit(X_train, y_train)\n",
    "    voorspel = model.predict(X_test)\n",
    "    return mean_absolute_error(y_test, voorspel)"
   ]
  },
  {
   "cell_type": "markdown",
   "id": "09e36b1f",
   "metadata": {},
   "source": [
    "## Score van Benadering 1 (Kolommen met ontbrekende waarden verwijderen)\n",
    "## Stap 1:Stap 1: Voorlopig onderzoek"
   ]
  },
  {
   "cell_type": "code",
   "execution_count": null,
   "id": "51e3ffd5",
   "metadata": {},
   "outputs": [],
   "source": [
    "# Vorm van trainingsgegevens (num_rows, num_columns)\n",
    "print(.....................)\n",
    "\n",
    "# Aantal ontbrekende waarden in elke kolom van trainingsgegevens\n",
    "\n",
    "Aantal_ontbrekende_gevens_per_kolom = (X_train.isnull().sum())\n",
    "\n",
    "# Print alle kolommen behalve die geen ontbrekende gegevens hebben.\n",
    "print(................)\n"
   ]
  },
  {
   "cell_type": "markdown",
   "id": "70d6c7bb",
   "metadata": {},
   "source": [
    "### Deel A\n",
    "Gebruik de bovenstaande uitvoer om de onderstaande vragen te beantwoorden.\n",
    "\n",
    "# Vul de onderstaande regel in: Hoeveel rijen staan ​​er in de trainingsgegevens?\n",
    "Aantal rijen = ____\n",
    "\n",
    "# Vul de onderstaande regel in: Hoeveel kolommen in de trainingsgegevens ontbreken er waarden?\n",
    "Aantal kollommen met ontbrekende data = ____\n",
    "\n",
    "https://docs.barttho.be/link/629#bkmrk-%23-vul-de-onderstaand-2\n",
    " \n",
    "# Vul de onderstaande regel in: Hoeveel ontbrekende vermeldingen staan ​​er in alle trainingsgegevens?\n",
    "Totaal ontbrekende = ____"
   ]
  },
  {
   "cell_type": "markdown",
   "id": "261f5223",
   "metadata": {},
   "source": [
    "### Deel B"
   ]
  },
  {
   "cell_type": "code",
   "execution_count": null,
   "id": "4981de14",
   "metadata": {},
   "outputs": [],
   "source": [
    "from sklearn.ensemble import RandomForestRegressor\n",
    "from sklearn.metrics import mean_absolute_error"
   ]
  },
  {
   "cell_type": "code",
   "execution_count": null,
   "id": "bf20965b",
   "metadata": {},
   "outputs": [],
   "source": [
    "# Functie voor het vergelijken van verschillende benaderingen\n",
    "def score_dataset(X_train, X_test, y_train, y_test):\n",
    "    model = \n",
    "    model.fit(X_train, y_train)\n",
    "    voorspel = \n",
    "    return mean_absolute_error(y_test, voorspel)"
   ]
  },
  {
   "cell_type": "markdown",
   "id": "ffef2372",
   "metadata": {},
   "source": [
    "## Stap 2: Kolommen met ontbrekende waarden verwijderen"
   ]
  },
  {
   "cell_type": "markdown",
   "id": "8530a722",
   "metadata": {},
   "source": [
    "# Vul de onderstaande regel in: haal namen op van kolommen met ontbrekende waarden\n",
    "kolommen_met_onbrekende_waarden  = ____ \n",
    "\n",
    "# Vul de onderstaande regels in: verwijder kolommen in trainings- en validatiegegevens\n",
    "beperkte_X_train = ____\n",
    "beperkte_X_test = ____"
   ]
  },
  {
   "cell_type": "code",
   "execution_count": null,
   "id": "8b9d430a",
   "metadata": {},
   "outputs": [],
   "source": [
    "print(\"MAE (Kolommen met ontbrekende waarden verwijderen):\")\n",
    "print(....)"
   ]
  },
  {
   "cell_type": "markdown",
   "id": "5f3a848d",
   "metadata": {},
   "source": [
    "## Stap 3: Imputatie"
   ]
  },
  {
   "cell_type": "code",
   "execution_count": null,
   "id": "1d0710e4",
   "metadata": {},
   "outputs": [],
   "source": [
    "from sklearn.impute import SimpleImputer\n",
    "\n",
    "# Vul de onderstaande regels in: imputatie\n",
    "mijn_imputatie = \n",
    "imputatie_X_train =\n",
    "imputatie_X_test = \n",
    "\n",
    "# Vul de onderstaande regels in: imputatie verwijderde kolomnamen; plaats ze terug\n",
    "imputatie_X_train.columns = \n",
    "imputatie_X_test.columns =\n",
    "\n",
    "print(\"MAE (Imputatie):\")\n",
    "print(...)"
   ]
  },
  {
   "cell_type": "markdown",
   "id": "35969d62",
   "metadata": {},
   "source": [
    "## Stap 4: Genereer testvoorspellingen"
   ]
  },
  {
   "cell_type": "markdown",
   "id": "8deea3c5",
   "metadata": {},
   "source": [
    "### Deel A"
   ]
  },
  {
   "cell_type": "code",
   "execution_count": null,
   "id": "12c50739",
   "metadata": {},
   "outputs": [],
   "source": [
    "final_X_train = ....\n",
    "final_X_test = ....\n",
    "\n",
    "# Definieer en pas het model aan\n",
    "model = \n",
    "model.fit(final_X_train, y_train)\n",
    "\n",
    "# Haal validatievoorspellingen en MAE op\n",
    "preds_valid = \n",
    "print(\"MAE (Onze aanpak):\")\n",
    "print(mean_absolute_error(y_valid, preds_valid))"
   ]
  },
  {
   "cell_type": "markdown",
   "id": "88513984",
   "metadata": {},
   "source": [
    "### Deel B"
   ]
  },
  {
   "cell_type": "code",
   "execution_count": null,
   "id": "e0e15d7b",
   "metadata": {},
   "outputs": [],
   "source": [
    "# Vul de onderstaande regel in: preprocess test data\n",
    "final_X_test = ____\n",
    "\n",
    "# Vul de onderstaande regel in: get test predictions\n",
    "voorspeld_test = ____"
   ]
  }
 ],
 "metadata": {
  "kernelspec": {
   "display_name": ".venv",
   "language": "python",
   "name": "python3"
  },
  "language_info": {
   "codemirror_mode": {
    "name": "ipython",
    "version": 3
   },
   "file_extension": ".py",
   "mimetype": "text/x-python",
   "name": "python",
   "nbconvert_exporter": "python",
   "pygments_lexer": "ipython3",
   "version": "3.11.9"
  }
 },
 "nbformat": 4,
 "nbformat_minor": 5
}
