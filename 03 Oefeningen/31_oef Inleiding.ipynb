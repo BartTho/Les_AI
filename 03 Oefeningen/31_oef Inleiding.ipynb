{
 "cells": [
  {
   "cell_type": "code",
   "execution_count": null,
   "id": "000b861b",
   "metadata": {},
   "outputs": [],
   "source": [
    "import pandas as pd\n",
    "from sklearn.model_selection import train_test_split\n",
    "\n",
    "# Lees de gegevens\n",
    "X_full = pd.read_csv('../data/train.csv', index_col='Id')\n",
    "X_test_full = pd.read_csv('../data/test.csv', index_col='Id')\n",
    "\n",
    "# Verkrijg doel en voorspellers\n",
    "y = X_full.SalePrice\n",
    "features = ['LotArea', 'YearBuilt', '1stFlrSF', '2ndFlrSF', 'FullBath', 'BedroomAbvGr', 'TotRmsAbvGrd']\n",
    "X = X_full[features].copy()\n",
    "X_test = X_test_full[features].copy()\n",
    "\n",
    "# Breek validatieset af van trainingsgegevens\n",
    "X_train, X_valid, y_train, y_valid = train_test_split(X, y, train_size=0.8, test_size=0.2, random_state=0)"
   ]
  },
  {
   "cell_type": "code",
   "execution_count": null,
   "id": "0f9aeb0c",
   "metadata": {},
   "outputs": [],
   "source": [
    "X_train.head()"
   ]
  },
  {
   "cell_type": "code",
   "execution_count": null,
   "id": "6134e000",
   "metadata": {},
   "outputs": [],
   "source": [
    "## Maak de modellen"
   ]
  },
  {
   "cell_type": "code",
   "execution_count": null,
   "id": "b991054d",
   "metadata": {},
   "outputs": [],
   "source": [
    "from sklearn.ensemble import RandomForestRegressor\n",
    "\n",
    "# Definieer de modellen\n",
    "model_1 = RandomForestRegressor(n_estimators=50, random_state=0)\n",
    "model_2 = RandomForestRegressor(n_estimators=100, random_state=0)\n",
    "model_3 = RandomForestRegressor(n_estimators=100, criterion='absolute_error', random_state=0)\n",
    "model_4 = RandomForestRegressor(n_estimators=200, min_samples_split=20, random_state=0)\n",
    "model_5 = RandomForestRegressor(n_estimators=100, max_depth=7, random_state=0)\n",
    "\n",
    "models = [model_1, model_2, model_3, model_4, model_5]\n",
    "print(\"modellen:\", models)"
   ]
  },
  {
   "cell_type": "code",
   "execution_count": null,
   "id": "8dedef0d",
   "metadata": {},
   "outputs": [],
   "source": [
    "##Evalueer meerdere modellen"
   ]
  },
  {
   "cell_type": "code",
   "execution_count": null,
   "id": "53237743",
   "metadata": {},
   "outputs": [],
   "source": [
    "from sklearn.metrics import mean_absolute_error\n",
    "\n",
    "# Functie voor het vergelijken van verschillende modellen\n",
    "def score_model(model, X_t=X_train, X_v=X_valid, y_t=y_train, y_v=y_valid):\n",
    "   model.fit(X_t, y_t)\n",
    "   preds = model.predict(X_v)\n",
    "   return mean_absolute_error(y_v, preds)\n",
    "\n",
    "for i in range(0, len(models)):\n",
    "   mae = score_model(models[i])\n",
    "   print(\"Model %d MAE: %d\" % (i+1, mae))\n",
    "\n",
    "# Noteer de uitput en welke modellen het beste presteerden:\n",
    "#OUTPUT:\n",
    "##Model 1 MAE: xxxxx15\n",
    "##Model 2 MAE: xxxxx40\n",
    "##Model 3 MAE: xxxxx16\n",
    "##Model 4 MAE: xxxxx96\n",
    "##Model 5 MAE: xxxxx06"
   ]
  },
  {
   "cell_type": "markdown",
   "id": "59152b74",
   "metadata": {},
   "source": [
    "##Stap 1: Evalueer meerdere modellen\n",
    "best_model = xxxxx"
   ]
  },
  {
   "cell_type": "markdown",
   "id": "f7d34865",
   "metadata": {},
   "source": [
    "##Genereer testvoorspellingen"
   ]
  },
  {
   "cell_type": "code",
   "execution_count": null,
   "id": "4d8723a0",
   "metadata": {},
   "outputs": [],
   "source": [
    "# Definieer jou model (kies het beste model)\n",
    "mijn_model = xxxxx\n",
    "\n",
    "# Pas het model aan op de trainingsgegevens\n",
    "mijn_model.fit(X, y)\n",
    "\n",
    "# Genereer testvoorspellingen\n",
    "voorspellingen = mijn_model.predict(X_test)\n",
    "\n",
    "# Sla voorspellingen op in het formaat dat wordt gebruikt voor de beoordeling van de wedstrijd\n",
    "output = pd.DataFrame({'Id': X_test.index, 'SalePrice': voorspellingen})\n",
    "output.to_csv('output.csv', index=False)"
   ]
  }
 ],
 "metadata": {
  "kernelspec": {
   "display_name": ".venv",
   "language": "python",
   "name": "python3"
  },
  "language_info": {
   "codemirror_mode": {
    "name": "ipython",
    "version": 3
   },
   "file_extension": ".py",
   "mimetype": "text/x-python",
   "name": "python",
   "nbconvert_exporter": "python",
   "pygments_lexer": "ipython3",
   "version": "3.11.9"
  }
 },
 "nbformat": 4,
 "nbformat_minor": 5
}
