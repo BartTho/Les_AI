{
 "cells": [
  {
   "cell_type": "markdown",
   "id": "b29f3e38",
   "metadata": {},
   "source": [
    "# Oefening: Categorische variabelen"
   ]
  },
  {
   "cell_type": "code",
   "execution_count": null,
   "id": "62c745b8",
   "metadata": {},
   "outputs": [],
   "source": [
    "import pandas as pd\n",
    "from sklearn.model_selection import train_test_split\n",
    "\n",
    "# Lees de gegevens\n",
    "X = pd.read_csv('../data/train.csv', index_col='Id')\n",
    "X_test = pd.read_csv('../data/test.csv', index_col='Id')\n",
    "\n",
    "# Verwijder rijen met ontbrekend doel, scheid doel van voorspellers\n",
    "X.dropna(axis=0, subset=['SalePrice'], inplace=True)\n",
    "y = X.SalePrice\n",
    "X.drop(['SalePrice'], axis=1, inplace=True)\n",
    "\n",
    "# Om het simpel te houden, verwijderen we kolommen met ontbrekende waarden\n",
    "kolommen_met_onbrekende_gegevens = [kol for kol in X.columns if X[kol].isnull().any()]\n",
    "X.drop(kolommen_met_onbrekende_gegevens, axis=1, inplace=True)\n",
    "X_test.drop(kolommen_met_onbrekende_gegevens, axis=1, inplace=True)\n",
    "\n",
    "# Validatieset afbreken van trainingsgegevens\n",
    "X_train, X_test, y_train, y_test = train_test_split(X, y, train_size=0.8, test_size=0.2, random_state=0)"
   ]
  },
  {
   "cell_type": "code",
   "execution_count": null,
   "id": "5d3d0ce7",
   "metadata": {},
   "outputs": [],
   "source": [
    "X_train.XXXXX"
   ]
  },
  {
   "cell_type": "code",
   "execution_count": null,
   "id": "a78b7cf9",
   "metadata": {},
   "outputs": [],
   "source": [
    "from sklearn.ensemble import RandomForestRegressor\n",
    "from sklearn.metrics import mean_absolute_error\n",
    "\n",
    "\n",
    "# function for comparing different approaches\n",
    "def score_dataset(X_train, X_test, y_train, y_test):\n",
    "    model = RandomForestRegressor(n_estimators=100, random_state=0)\n",
    "    model.fit(X_train, y_train)\n",
    "    preds = model.predict(X_test)\n",
    "    return mean_absolute_error(y_test, preds)"
   ]
  },
  {
   "cell_type": "markdown",
   "id": "a81f6585",
   "metadata": {},
   "source": [
    "## Stap 1: Kolommen met categorische gegevens verwijderen"
   ]
  },
  {
   "cell_type": "code",
   "execution_count": null,
   "id": "6dd3ac50",
   "metadata": {},
   "outputs": [],
   "source": [
    "# Vul de onderstaande regels in: verwijder kolommen in trainings- en testgegevens\n",
    "drop_X_train = X_train.select_dtypes(exclude=['object'])\n",
    "drop_X_test = X_test.select_dtypes(exclude=['object'])\n",
    "\n",
    "print(\"MAE van stap 1 (categorische variabelen verwijderen):\")\n",
    "print(score_dataset(drop_X_train, drop_X_test, y_train, y_test))"
   ]
  },
  {
   "cell_type": "markdown",
   "id": "09e90825",
   "metadata": {},
   "source": [
    "## Stap 2: Ordinale codering"
   ]
  },
  {
   "cell_type": "code",
   "execution_count": null,
   "id": "c8004adf",
   "metadata": {},
   "outputs": [],
   "source": [
    "print(\"Unieke waarden in kolom 'Condition2' in trainingsgegevens:\", X_train['Condition2'].unique())\n",
    "print(\"\\nUnieke waarden in kolom 'Condition2' in validatiegegevens:\", X_test['Condition2'].unique())"
   ]
  },
  {
   "cell_type": "markdown",
   "id": "c16df05f",
   "metadata": {},
   "source": [
    "### Deel A"
   ]
  },
  {
   "cell_type": "code",
   "execution_count": null,
   "id": "5c03e056",
   "metadata": {},
   "outputs": [],
   "source": [
    "# Categorische kolommen in de trainingsgegevens\n",
    "object_kolommen = [kol for kol in X_train.columns if X_train[kol].dtype == \"object\"]\n",
    "\n",
    "# Kolommen die veilig ordinaal gecodeerd kunnen worden\n",
    "goede_label_kolommen = [kol for kol in object_kolommen if set(X_test[kol]).issubset(set(X_train[kol]))]\n",
    "\n",
    "# Problematische kolommen die uit de dataset worden verwijderd\n",
    "slechte_label_kolommen = list(set(object_kolommen)-set(goede_label_kolommen))\n",
    "\n",
    "print('Categorische kolommen die ordinaal gecodeerd worden:', goede_label_kolommen)\n",
    "print('\\nCategorische kolommen die uit de dataset worden verwijderd:', slechte_label_kolommen)"
   ]
  },
  {
   "cell_type": "markdown",
   "id": "fedaa803",
   "metadata": {},
   "source": [
    "### Deel B"
   ]
  },
  {
   "cell_type": "code",
   "execution_count": null,
   "id": "097b8ed5",
   "metadata": {},
   "outputs": [],
   "source": [
    "from sklearn.preprocessing import OrdinalEncoder\n",
    "\n",
    "# Verwijder categorische kolommen die niet worden gecodeerd\n",
    "label_X_train = XXXXX\n",
    "label_X_test = XXXXX\n",
    "\n",
    "# Pas ordinale encoder toe\n",
    "____ # Uw code hier"
   ]
  },
  {
   "cell_type": "code",
   "execution_count": null,
   "id": "172d057e",
   "metadata": {},
   "outputs": [],
   "source": [
    "print(\"MAE van stap 2 (Ordinal Encoding):\")\n",
    "print(score_dataset(label_X_train, label_X_test, y_train, y_test))"
   ]
  },
  {
   "cell_type": "markdown",
   "id": "5f715da7",
   "metadata": {},
   "source": [
    "## Stap 3: Kardinaliteit onderzoeken"
   ]
  },
  {
   "cell_type": "code",
   "execution_count": null,
   "id": "9f020b73",
   "metadata": {},
   "outputs": [],
   "source": [
    "# Aantal unieke vermeldingen in elke kolom ophalen met categorische gegevens\n",
    "unike_objecten = list(map(lambda kol: X_train[kol].nunique(), object_kolommen))\n",
    "d = dict(zip(object_kolommen, unike_objecten))\n",
    "\n",
    "# Aantal unieke vermeldingen per kolom afdrukken, in oplopende volgorde\n",
    "sorted(d.items(), key=lambda x: x[1])"
   ]
  },
  {
   "cell_type": "markdown",
   "id": "dd10d2af",
   "metadata": {},
   "source": [
    "### Deel A"
   ]
  },
  {
   "cell_type": "code",
   "execution_count": null,
   "id": "5a4fe60e",
   "metadata": {},
   "outputs": [],
   "source": [
    "# Vul de onderstaande regel in: Hoeveel categorische variabelen in de trainingsgegevens\n",
    "# hebben een kardinaliteit groter dan 10?\n",
    "grote_kardinaliteit_kolommen = XXXXX\n",
    "\n",
    "# Vul de onderstaande regel in: Hoeveel kolommen zijn nodig om de variabele\n",
    "# 'Neighborhood' in de trainingsgegevens one-hot te coderen?\n",
    "nummer_kolommen_neighborhood = XXXXX"
   ]
  },
  {
   "cell_type": "markdown",
   "id": "55561305",
   "metadata": {},
   "source": [
    "### Deel B"
   ]
  },
  {
   "cell_type": "code",
   "execution_count": null,
   "id": "c6e6d1c5",
   "metadata": {},
   "outputs": [],
   "source": [
    "# Vul de onderstaande regel in: Hoeveel items worden toegevoegd aan de dataset door\n",
    "# de kolom te vervangen door een one-hot-codering?\n",
    "OH_entries_added = XXXXX\n",
    "\n",
    "# Vul de onderstaande regel in: Hoeveel items worden toegevoegd aan de dataset door\n",
    "# de kolom te vervangen door een ordinale codering?\n",
    "label_entries_added = XXXXX"
   ]
  },
  {
   "cell_type": "code",
   "execution_count": null,
   "id": "528fd585",
   "metadata": {},
   "outputs": [],
   "source": [
    "# Kolommen die one-hot gecodeerd worden\n",
    "kleine_kardinaliteit_kolommen = [kol for kol in object_kolommen if X_train[kol].nunique() < 10]\n",
    "\n",
    "# Kolommen die uit de dataset worden verwijderd\n",
    "grote_kardinaliteit_kolommen = list(set(object_kolommen)-set(kleine_kardinaliteit_kolommen))\n",
    "\n",
    "print('Categorische kolommen die one-hot gecodeerd worden:', kleine_kardinaliteit_kolommen)\n",
    "print('\\nCategorische kolommen die uit de dataset worden verwijderd:', grote_kardinaliteit_kolommen)"
   ]
  },
  {
   "cell_type": "markdown",
   "id": "fa437d6a",
   "metadata": {},
   "source": [
    "## Stap 4: One-hot-codering"
   ]
  },
  {
   "cell_type": "code",
   "execution_count": null,
   "id": "e94cb89c",
   "metadata": {},
   "outputs": [],
   "source": [
    "from sklearn.preprocessing import OneHotEncoder\n",
    "\n",
    "# Gebruik zoveel regels code als u nodig hebt!\n",
    "# Pas one-hot encoder toe op elke kolom met categorische gegevens\n",
    "OH_encoder = _____\n",
    "OH_cols_train = _____\n",
    "OH_cols_test = _____\n",
    "\n",
    "# One-hot encoding verwijderd index; zet het terug\n",
    "OH_cols_train.index = _____\n",
    "OH_cols_test.index = _____\n",
    "\n",
    "# Verwijder categorische kolommen (zal vervangen worden door one-hot encoding)\n",
    "num_X_train = _____\n",
    "num_X_test = _____\n",
    "\n",
    "# Voeg one-hot gecodeerde kolommen toe aan numerieke features\n",
    "OH_X_train = _____\n",
    "OH_X_test = _____\n",
    "\n",
    "# Zorg ervoor dat alle kolommen een stringtype hebben\n",
    "OH_X_train.columns = _____\n",
    "OH_X_test.columns = _____\n",
    "\n",
    "print(\"MAE van benadering 3 (One-Hot Encoding):\")\n",
    "print(score_dataset(OH_X_train, OH_X_test, y_train, y_test))"
   ]
  }
 ],
 "metadata": {
  "kernelspec": {
   "display_name": ".venv",
   "language": "python",
   "name": "python3"
  },
  "language_info": {
   "codemirror_mode": {
    "name": "ipython",
    "version": 3
   },
   "file_extension": ".py",
   "mimetype": "text/x-python",
   "name": "python",
   "nbconvert_exporter": "python",
   "pygments_lexer": "ipython3",
   "version": "3.11.9"
  }
 },
 "nbformat": 4,
 "nbformat_minor": 5
}
